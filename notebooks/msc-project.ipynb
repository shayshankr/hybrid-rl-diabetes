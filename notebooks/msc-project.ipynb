{
 "cells": [
  {
   "cell_type": "code",
   "execution_count": null,
   "metadata": {
    "_cell_guid": "b1076dfc-b9ad-4769-8c92-a6c4dae69d19",
    "_uuid": "8f2839f25d086af736a60e9eeb907d3b93b6e0e5",
    "execution": {
     "iopub.execute_input": "2025-08-31T10:18:21.533317Z",
     "iopub.status.busy": "2025-08-31T10:18:21.533046Z",
     "iopub.status.idle": "2025-08-31T10:18:41.733436Z",
     "shell.execute_reply": "2025-08-31T10:18:41.732653Z",
     "shell.execute_reply.started": "2025-08-31T10:18:21.533281Z"
    },
    "trusted": true
   },
   "outputs": [
    {
     "name": "stderr",
     "output_type": "stream",
     "text": [
      "WARNING: All log messages before absl::InitializeLog() is called are written to STDERR\n",
      "E0000 00:00:1756635509.779461      36 cuda_dnn.cc:8310] Unable to register cuDNN factory: Attempting to register factory for plugin cuDNN when one has already been registered\n",
      "E0000 00:00:1756635509.843752      36 cuda_blas.cc:1418] Unable to register cuBLAS factory: Attempting to register factory for plugin cuBLAS when one has already been registered\n"
     ]
    },
    {
     "name": "stdout",
     "output_type": "stream",
     "text": [
      "[env ok] gymnasium 0.29.0 | stable-baselines3 2.1.0\n"
     ]
    }
   ],
   "source": [
    "# ======================\n",
    "# Cell 0 — Kaggle-friendly setup\n",
    "# ======================\n",
    "# NOTE: Kaggle already has gymnasium & stable-baselines3. We avoid reinstalling them.\n",
    "# If you need SHAP/LIME for explainability slides, uncomment the pip line below.\n",
    "\n",
    "# !pip -q install shap==0.46.0 lime==0.2.0.1\n",
    "\n",
    "import os\n",
    "os.environ[\"TF_CPP_MIN_LOG_LEVEL\"] = \"3\"  # silences most TF/XLA warnings\n",
    "\n",
    "import warnings, os, sys\n",
    "warnings.filterwarnings(\"ignore\")\n",
    "\n",
    "import gymnasium as gym\n",
    "import stable_baselines3 as sb3\n",
    "print(\"[env ok]\", \"gymnasium\", gym.__version__, \"| stable-baselines3\", sb3.__version__)\n"
   ]
  },
  {
   "cell_type": "code",
   "execution_count": 2,
   "metadata": {
    "execution": {
     "iopub.execute_input": "2025-08-31T10:18:41.735667Z",
     "iopub.status.busy": "2025-08-31T10:18:41.735230Z",
     "iopub.status.idle": "2025-08-31T10:18:42.189892Z",
     "shell.execute_reply": "2025-08-31T10:18:42.189388Z",
     "shell.execute_reply.started": "2025-08-31T10:18:41.735647Z"
    },
    "trusted": true
   },
   "outputs": [],
   "source": [
    "# ======================\n",
    "# Cell 1 — Core imports\n",
    "# ======================\n",
    "from pathlib import Path\n",
    "import json\n",
    "import math\n",
    "import random\n",
    "import numpy as np\n",
    "import pandas as pd\n",
    "\n",
    "# RL\n",
    "from stable_baselines3 import PPO, DQN\n",
    "from stable_baselines3.common.vec_env import DummyVecEnv\n",
    "from stable_baselines3.common.callbacks import EvalCallback, StopTrainingOnNoModelImprovement\n",
    "from stable_baselines3.common.monitor import Monitor\n",
    "\n",
    "# Plotting\n",
    "import matplotlib.pyplot as plt\n",
    "import seaborn as sns\n",
    "\n",
    "# Sklearn\n",
    "from sklearn.preprocessing import StandardScaler\n",
    "from sklearn.model_selection import train_test_split\n",
    "\n",
    "# Typing\n",
    "from typing import Dict, Tuple, List, Optional\n"
   ]
  },
  {
   "cell_type": "code",
   "execution_count": 3,
   "metadata": {
    "execution": {
     "iopub.execute_input": "2025-08-31T10:18:42.190964Z",
     "iopub.status.busy": "2025-08-31T10:18:42.190577Z",
     "iopub.status.idle": "2025-08-31T10:18:42.208250Z",
     "shell.execute_reply": "2025-08-31T10:18:42.207683Z",
     "shell.execute_reply.started": "2025-08-31T10:18:42.190947Z"
    },
    "trusted": true
   },
   "outputs": [
    {
     "name": "stdout",
     "output_type": "stream",
     "text": [
      "DATA_DIR: /kaggle/input/dataset/diabetes-data/Diabetes-Data\n",
      "Outputs -> /kaggle/working/outputs_clean\n",
      "RL: PPO | total steps: 30000 | action codes: [0, 1, 2, 3]\n"
     ]
    }
   ],
   "source": [
    "# ======================\n",
    "# Cell 2 — Paths & Config (for UCI multi-file dataset)\n",
    "# ======================\n",
    "from pathlib import Path\n",
    "import numpy as np, random\n",
    "\n",
    "# Root detection\n",
    "DATA_ROOT  = Path(\"/kaggle/input\") if Path(\"/kaggle/input\").exists() else Path(\".\")\n",
    "OUTPUT_DIR = Path(\"./outputs_clean\"); OUTPUT_DIR.mkdir(parents=True, exist_ok=True)\n",
    "\n",
    "# Point directly to the folder with all patient files\n",
    "DATA_DIR = DATA_ROOT/\"dataset\"/\"diabetes-data\"/\"Diabetes-Data\"\n",
    "if not DATA_DIR.exists():\n",
    "    raise FileNotFoundError(f\"Could not locate data folder at {DATA_DIR}\")\n",
    "\n",
    "print(\"DATA_DIR:\", DATA_DIR)\n",
    "print(\"Outputs ->\", OUTPUT_DIR.resolve())\n",
    "\n",
    "# Reproducibility\n",
    "RANDOM_SEED = 42\n",
    "np.random.seed(RANDOM_SEED); random.seed(RANDOM_SEED)\n",
    "\n",
    "# RL settings\n",
    "ALGO        = \"PPO\"      # or \"DQN\"\n",
    "TOTAL_STEPS = 30_000\n",
    "N_ENVS      = 1\n",
    "\n",
    "# Discrete insulin adjustment actions\n",
    "ACTIONS_MU   = [0, 1, 2, 3]\n",
    "ACTION_LABEL = {0:\"no-op\", 1:\"+low\", 2:\"+mid\", 3:\"+high\"}\n",
    "\n",
    "# Glycaemic bands\n",
    "TIR_BOUNDS  = (70, 180)\n",
    "HYPO_BOUND  = 70\n",
    "HYPER_BOUND = 180\n",
    "\n",
    "print(\"RL:\", ALGO, \"| total steps:\", TOTAL_STEPS, \"| action codes:\", ACTIONS_MU)\n"
   ]
  },
  {
   "cell_type": "code",
   "execution_count": 4,
   "metadata": {
    "execution": {
     "iopub.execute_input": "2025-08-31T10:18:42.209081Z",
     "iopub.status.busy": "2025-08-31T10:18:42.208830Z",
     "iopub.status.idle": "2025-08-31T10:18:42.811276Z",
     "shell.execute_reply": "2025-08-31T10:18:42.810692Z",
     "shell.execute_reply.started": "2025-08-31T10:18:42.209061Z"
    },
    "trusted": true
   },
   "outputs": [
    {
     "name": "stdout",
     "output_type": "stream",
     "text": [
      "Raw merged shape: (29330, 5)\n",
      "Patients: 70\n"
     ]
    },
    {
     "data": {
      "text/html": [
       "<div>\n",
       "<style scoped>\n",
       "    .dataframe tbody tr th:only-of-type {\n",
       "        vertical-align: middle;\n",
       "    }\n",
       "\n",
       "    .dataframe tbody tr th {\n",
       "        vertical-align: top;\n",
       "    }\n",
       "\n",
       "    .dataframe thead th {\n",
       "        text-align: right;\n",
       "    }\n",
       "</style>\n",
       "<table border=\"1\" class=\"dataframe\">\n",
       "  <thead>\n",
       "    <tr style=\"text-align: right;\">\n",
       "      <th></th>\n",
       "      <th>date</th>\n",
       "      <th>time</th>\n",
       "      <th>code</th>\n",
       "      <th>value</th>\n",
       "      <th>patient_id</th>\n",
       "    </tr>\n",
       "  </thead>\n",
       "  <tbody>\n",
       "    <tr>\n",
       "      <th>0</th>\n",
       "      <td>04-21-1991</td>\n",
       "      <td>9:09</td>\n",
       "      <td>58</td>\n",
       "      <td>100</td>\n",
       "      <td>1</td>\n",
       "    </tr>\n",
       "    <tr>\n",
       "      <th>1</th>\n",
       "      <td>04-21-1991</td>\n",
       "      <td>9:09</td>\n",
       "      <td>33</td>\n",
       "      <td>9</td>\n",
       "      <td>1</td>\n",
       "    </tr>\n",
       "    <tr>\n",
       "      <th>2</th>\n",
       "      <td>04-21-1991</td>\n",
       "      <td>9:09</td>\n",
       "      <td>34</td>\n",
       "      <td>13</td>\n",
       "      <td>1</td>\n",
       "    </tr>\n",
       "    <tr>\n",
       "      <th>3</th>\n",
       "      <td>04-21-1991</td>\n",
       "      <td>17:08</td>\n",
       "      <td>62</td>\n",
       "      <td>119</td>\n",
       "      <td>1</td>\n",
       "    </tr>\n",
       "    <tr>\n",
       "      <th>4</th>\n",
       "      <td>04-21-1991</td>\n",
       "      <td>17:08</td>\n",
       "      <td>33</td>\n",
       "      <td>7</td>\n",
       "      <td>1</td>\n",
       "    </tr>\n",
       "  </tbody>\n",
       "</table>\n",
       "</div>"
      ],
      "text/plain": [
       "         date   time  code value  patient_id\n",
       "0  04-21-1991   9:09    58   100           1\n",
       "1  04-21-1991   9:09    33     9           1\n",
       "2  04-21-1991   9:09    34    13           1\n",
       "3  04-21-1991  17:08    62   119           1\n",
       "4  04-21-1991  17:08    33     7           1"
      ]
     },
     "metadata": {},
     "output_type": "display_data"
    }
   ],
   "source": [
    "# ======================\n",
    "# Cell 3 — Load UCI diabetes dataset (multi-file format) + sanity checks\n",
    "# ======================\n",
    "\n",
    "import os\n",
    "import pandas as pd\n",
    "import matplotlib.pyplot as plt\n",
    "\n",
    "# Folder with patient files\n",
    "DATA_DIR = \"/kaggle/input/dataset/diabetes-data/Diabetes-Data\"\n",
    "\n",
    "# All patient files start with \"data-\"\n",
    "patient_files = sorted([f for f in os.listdir(DATA_DIR) if f.startswith(\"data-\")])\n",
    "\n",
    "dfs = []\n",
    "for idx, fname in enumerate(patient_files, start=1):\n",
    "    path = os.path.join(DATA_DIR, fname)\n",
    "    \n",
    "    # Each line: Date (MM-DD-YYYY), Time (HH:MM), Code, Value\n",
    "    df_p = pd.read_csv(path, sep=\"\\t\", header=None, names=[\"date\",\"time\",\"code\",\"value\"], engine=\"python\")\n",
    "    \n",
    "    # Add patient id\n",
    "    df_p[\"patient_id\"] = idx\n",
    "    \n",
    "    # Drop completely empty rows (some files have blanks)\n",
    "    df_p = df_p.dropna(how=\"all\")\n",
    "    \n",
    "    dfs.append(df_p)\n",
    "\n",
    "# Merge all into one dataframe\n",
    "df_raw = pd.concat(dfs, ignore_index=True)\n",
    "\n",
    "print(\"Raw merged shape:\", df_raw.shape)\n",
    "print(\"Patients:\", df_raw['patient_id'].nunique())\n",
    "display(df_raw.head())\n"
   ]
  },
  {
   "cell_type": "code",
   "execution_count": null,
   "metadata": {
    "execution": {
     "iopub.execute_input": "2025-08-31T10:18:42.812108Z",
     "iopub.status.busy": "2025-08-31T10:18:42.811898Z",
     "iopub.status.idle": "2025-08-31T10:18:43.216631Z",
     "shell.execute_reply": "2025-08-31T10:18:43.216052Z",
     "shell.execute_reply.started": "2025-08-31T10:18:42.812092Z"
    },
    "trusted": true
   },
   "outputs": [
    {
     "data": {
      "image/png": "[encoded data removed]",
      "text/plain": [
       "<Figure size 800x300 with 1 Axes>"
      ]
     },
     "metadata": {},
     "output_type": "display_data"
    },
    {
     "data": {
      "text/plain": [
       "<Figure size 640x480 with 0 Axes>"
      ]
     },
     "metadata": {},
     "output_type": "display_data"
    }
   ],
   "source": [
    "# Quick count of event codes \n",
    "code_counts = df_raw['code'].value_counts().sort_index()\n",
    "plt.figure(figsize=(8,3))\n",
    "plt.bar(code_counts.index.astype(str), code_counts.values)\n",
    "plt.title(\"Event Code Frequencies\")\n",
    "plt.xlabel(\"Code\"); plt.ylabel(\"Count\")\n",
    "plt.tight_layout(); plt.show()\n",
    "\n",
    "out_path = OUTPUT_DIR/\"Event_Code_Frequencies\"   \n",
    "plt.savefig(out_path, dpi=300, bbox_inches=\"tight\")\n"
   ]
  },
  {
   "cell_type": "code",
   "execution_count": 6,
   "metadata": {
    "execution": {
     "iopub.execute_input": "2025-08-31T10:18:43.217541Z",
     "iopub.status.busy": "2025-08-31T10:18:43.217337Z",
     "iopub.status.idle": "2025-08-31T10:18:43.314813Z",
     "shell.execute_reply": "2025-08-31T10:18:43.314261Z",
     "shell.execute_reply.started": "2025-08-31T10:18:43.217526Z"
    },
    "trusted": true
   },
   "outputs": [
    {
     "name": "stdout",
     "output_type": "stream",
     "text": [
      "After clean mapping: (25042, 8) | patients: 69\n"
     ]
    },
    {
     "data": {
      "text/html": [
       "<div>\n",
       "<style scoped>\n",
       "    .dataframe tbody tr th:only-of-type {\n",
       "        vertical-align: middle;\n",
       "    }\n",
       "\n",
       "    .dataframe tbody tr th {\n",
       "        vertical-align: top;\n",
       "    }\n",
       "\n",
       "    .dataframe thead th {\n",
       "        text-align: right;\n",
       "    }\n",
       "</style>\n",
       "<table border=\"1\" class=\"dataframe\">\n",
       "  <thead>\n",
       "    <tr style=\"text-align: right;\">\n",
       "      <th></th>\n",
       "      <th>date</th>\n",
       "      <th>time</th>\n",
       "      <th>code</th>\n",
       "      <th>value</th>\n",
       "      <th>patient_id</th>\n",
       "      <th>glucose</th>\n",
       "      <th>insulin</th>\n",
       "      <th>timestamp</th>\n",
       "    </tr>\n",
       "  </thead>\n",
       "  <tbody>\n",
       "    <tr>\n",
       "      <th>0</th>\n",
       "      <td>04-21-1991</td>\n",
       "      <td>9:09</td>\n",
       "      <td>58</td>\n",
       "      <td>100</td>\n",
       "      <td>1</td>\n",
       "      <td>100.0</td>\n",
       "      <td>NaN</td>\n",
       "      <td>1991-04-21 09:09:00</td>\n",
       "    </tr>\n",
       "    <tr>\n",
       "      <th>1</th>\n",
       "      <td>04-21-1991</td>\n",
       "      <td>9:09</td>\n",
       "      <td>33</td>\n",
       "      <td>9</td>\n",
       "      <td>1</td>\n",
       "      <td>NaN</td>\n",
       "      <td>9.0</td>\n",
       "      <td>1991-04-21 09:09:00</td>\n",
       "    </tr>\n",
       "    <tr>\n",
       "      <th>2</th>\n",
       "      <td>04-21-1991</td>\n",
       "      <td>9:09</td>\n",
       "      <td>34</td>\n",
       "      <td>13</td>\n",
       "      <td>1</td>\n",
       "      <td>NaN</td>\n",
       "      <td>13.0</td>\n",
       "      <td>1991-04-21 09:09:00</td>\n",
       "    </tr>\n",
       "    <tr>\n",
       "      <th>3</th>\n",
       "      <td>04-21-1991</td>\n",
       "      <td>17:08</td>\n",
       "      <td>62</td>\n",
       "      <td>119</td>\n",
       "      <td>1</td>\n",
       "      <td>119.0</td>\n",
       "      <td>NaN</td>\n",
       "      <td>1991-04-21 17:08:00</td>\n",
       "    </tr>\n",
       "    <tr>\n",
       "      <th>4</th>\n",
       "      <td>04-21-1991</td>\n",
       "      <td>17:08</td>\n",
       "      <td>33</td>\n",
       "      <td>7</td>\n",
       "      <td>1</td>\n",
       "      <td>NaN</td>\n",
       "      <td>7.0</td>\n",
       "      <td>1991-04-21 17:08:00</td>\n",
       "    </tr>\n",
       "  </tbody>\n",
       "</table>\n",
       "</div>"
      ],
      "text/plain": [
       "         date   time  code value  patient_id  glucose  insulin  \\\n",
       "0  04-21-1991   9:09    58   100           1    100.0      NaN   \n",
       "1  04-21-1991   9:09    33     9           1      NaN      9.0   \n",
       "2  04-21-1991   9:09    34    13           1      NaN     13.0   \n",
       "3  04-21-1991  17:08    62   119           1    119.0      NaN   \n",
       "4  04-21-1991  17:08    33     7           1      NaN      7.0   \n",
       "\n",
       "            timestamp  \n",
       "0 1991-04-21 09:09:00  \n",
       "1 1991-04-21 09:09:00  \n",
       "2 1991-04-21 09:09:00  \n",
       "3 1991-04-21 17:08:00  \n",
       "4 1991-04-21 17:08:00  "
      ]
     },
     "metadata": {},
     "output_type": "display_data"
    }
   ],
   "source": [
    "# ======================\n",
    "# Cell 4 — Clean mapping → numeric glucose/insulin\n",
    "# ======================\n",
    "import pandas as pd\n",
    "import numpy as np\n",
    "\n",
    "df = df_raw.copy()\n",
    "\n",
    "# --- Official code groups (UCI Diabetes) ---\n",
    "INSULIN_CODES  = {33, 34, 35}          # Regular, NPH, Ultralente\n",
    "GLUCOSE_CODES  = {58, 59, 60, 61, 62, 63, 64}  # BG measurements (pre/post meals, bedtime)\n",
    "# (If you later see code 57 or 48 used for glucose in your files, we can add them.)\n",
    "\n",
    "# Map to columns\n",
    "df[\"glucose\"] = np.where(df[\"code\"].isin(GLUCOSE_CODES), df[\"value\"], np.nan)\n",
    "df[\"insulin\"] = np.where(df[\"code\"].isin(INSULIN_CODES),  df[\"value\"], np.nan)\n",
    "\n",
    "# Coerce to numeric (handles strings like \"?\" by turning them into NaN)\n",
    "df[\"glucose\"] = pd.to_numeric(df[\"glucose\"], errors=\"coerce\")\n",
    "df[\"insulin\"] = pd.to_numeric(df[\"insulin\"], errors=\"coerce\")\n",
    "\n",
    "# Build a timestamp for ordering (some files use logical times; this is still useful)\n",
    "ts = pd.to_datetime(df[\"date\"].astype(str) + \" \" + df[\"time\"].astype(str), errors=\"coerce\")\n",
    "df[\"timestamp\"] = ts\n",
    "\n",
    "# Keep rows where at least one signal is present\n",
    "df = df.dropna(subset=[\"glucose\", \"insulin\"], how=\"all\")\n",
    "\n",
    "# Sort neatly\n",
    "df = df.sort_values([\"patient_id\", \"timestamp\"]).reset_index(drop=True)\n",
    "\n",
    "# Basic plausibility filter for glucose (avoid crazy values)\n",
    "df = df[(df[\"glucose\"].isna()) | ((df[\"glucose\"] > 0) & (df[\"glucose\"] < 1000))]\n",
    "\n",
    "print(\"After clean mapping:\", df.shape, \"| patients:\", df[\"patient_id\"].nunique())\n",
    "display(df.head())\n"
   ]
  },
  {
   "cell_type": "code",
   "execution_count": 7,
   "metadata": {
    "execution": {
     "iopub.execute_input": "2025-08-31T10:18:43.316900Z",
     "iopub.status.busy": "2025-08-31T10:18:43.316723Z",
     "iopub.status.idle": "2025-08-31T10:18:43.596382Z",
     "shell.execute_reply": "2025-08-31T10:18:43.595777Z",
     "shell.execute_reply.started": "2025-08-31T10:18:43.316887Z"
    },
    "trusted": true
   },
   "outputs": [
    {
     "data": {
      "image/png": "[encoded data removed]",
      "text/plain": [
       "<Figure size 500x300 with 1 Axes>"
      ]
     },
     "metadata": {},
     "output_type": "display_data"
    },
    {
     "data": {
      "text/plain": [
       "<Figure size 640x480 with 0 Axes>"
      ]
     },
     "metadata": {},
     "output_type": "display_data"
    }
   ],
   "source": [
    "# Histogram of glucose values\n",
    "plt.figure(figsize=(5,3))\n",
    "plt.hist(df[\"glucose\"].dropna(), bins=40, edgecolor=\"black\")\n",
    "plt.title(\"Glucose Distribution\")\n",
    "plt.xlabel(\"mg/dL\"); plt.ylabel(\"Count\")\n",
    "plt.tight_layout(); plt.show()\n",
    "\n",
    "out_path = OUTPUT_DIR/\"Glucose_Distribution.png\"   # change filename per plot\n",
    "plt.savefig(out_path, dpi=300, bbox_inches=\"tight\")"
   ]
  },
  {
   "cell_type": "code",
   "execution_count": 8,
   "metadata": {
    "execution": {
     "iopub.execute_input": "2025-08-31T10:18:43.597229Z",
     "iopub.status.busy": "2025-08-31T10:18:43.597023Z",
     "iopub.status.idle": "2025-08-31T10:18:43.857223Z",
     "shell.execute_reply": "2025-08-31T10:18:43.856555Z",
     "shell.execute_reply.started": "2025-08-31T10:18:43.597213Z"
    },
    "trusted": true
   },
   "outputs": [
    {
     "data": {
      "image/png": "[encoded data removed]",
      "text/plain": [
       "<Figure size 600x400 with 1 Axes>"
      ]
     },
     "metadata": {},
     "output_type": "display_data"
    },
    {
     "data": {
      "text/plain": [
       "<Figure size 640x480 with 0 Axes>"
      ]
     },
     "metadata": {},
     "output_type": "display_data"
    }
   ],
   "source": [
    "# Distribution of observation counts per patient (binned)\n",
    "counts = df[\"patient_id\"].value_counts()\n",
    "\n",
    "plt.figure(figsize=(6,4))\n",
    "plt.hist(counts.values, bins=[0,500,1000,1500,2000], edgecolor=\"black\")\n",
    "plt.title(\"Distribution of Observation Counts per Patient\")\n",
    "plt.xlabel(\"Observation count range\")\n",
    "plt.ylabel(\"Number of patients\")\n",
    "plt.tight_layout(); plt.show()\n",
    "\n",
    "\n",
    "out_path = OUTPUT_DIR/\"Distribution_of_Observation_Counts_per_Patient\"   # change filename per plot\n",
    "plt.savefig(out_path, dpi=300, bbox_inches=\"tight\")\n"
   ]
  },
  {
   "cell_type": "code",
   "execution_count": 9,
   "metadata": {
    "execution": {
     "iopub.execute_input": "2025-08-31T10:18:43.858616Z",
     "iopub.status.busy": "2025-08-31T10:18:43.858031Z",
     "iopub.status.idle": "2025-08-31T10:18:43.867416Z",
     "shell.execute_reply": "2025-08-31T10:18:43.866809Z",
     "shell.execute_reply.started": "2025-08-31T10:18:43.858596Z"
    },
    "trusted": true
   },
   "outputs": [
    {
     "data": {
      "text/html": [
       "<div>\n",
       "<style scoped>\n",
       "    .dataframe tbody tr th:only-of-type {\n",
       "        vertical-align: middle;\n",
       "    }\n",
       "\n",
       "    .dataframe tbody tr th {\n",
       "        vertical-align: top;\n",
       "    }\n",
       "\n",
       "    .dataframe thead th {\n",
       "        text-align: right;\n",
       "    }\n",
       "</style>\n",
       "<table border=\"1\" class=\"dataframe\">\n",
       "  <thead>\n",
       "    <tr style=\"text-align: right;\">\n",
       "      <th></th>\n",
       "      <th>Patients</th>\n",
       "      <th>Median obs/patient</th>\n",
       "      <th>Max obs/patient</th>\n",
       "      <th>Min obs/patient</th>\n",
       "    </tr>\n",
       "  </thead>\n",
       "  <tbody>\n",
       "    <tr>\n",
       "      <th>Value</th>\n",
       "      <td>69</td>\n",
       "      <td>269</td>\n",
       "      <td>1161</td>\n",
       "      <td>1</td>\n",
       "    </tr>\n",
       "  </tbody>\n",
       "</table>\n",
       "</div>"
      ],
      "text/plain": [
       "       Patients  Median obs/patient  Max obs/patient  Min obs/patient\n",
       "Value        69                 269             1161                1"
      ]
     },
     "execution_count": 9,
     "metadata": {},
     "output_type": "execute_result"
    }
   ],
   "source": [
    "counts = df[\"patient_id\"].value_counts()\n",
    "summary = {\n",
    "    \"Patients\": df[\"patient_id\"].nunique(),\n",
    "    \"Median obs/patient\": int(counts.median()),\n",
    "    \"Max obs/patient\": int(counts.max()),\n",
    "    \"Min obs/patient\": int(counts.min())\n",
    "}\n",
    "pd.DataFrame(summary, index=[\"Value\"])\n"
   ]
  },
  {
   "cell_type": "code",
   "execution_count": null,
   "metadata": {
    "execution": {
     "iopub.execute_input": "2025-08-31T10:18:43.868433Z",
     "iopub.status.busy": "2025-08-31T10:18:43.868219Z",
     "iopub.status.idle": "2025-08-31T10:18:44.151536Z",
     "shell.execute_reply": "2025-08-31T10:18:44.151033Z",
     "shell.execute_reply.started": "2025-08-31T10:18:43.868418Z"
    },
    "trusted": true
   },
   "outputs": [
    {
     "name": "stdout",
     "output_type": "stream",
     "text": [
      "Aligned shape: (61511, 4) | patients: 66\n"
     ]
    },
    {
     "name": "stderr",
     "output_type": "stream",
     "text": [
      "/tmp/ipykernel_36/3498613260.py:40: DeprecationWarning: DataFrameGroupBy.apply operated on the grouping columns. This behavior is deprecated, and in a future version of pandas the grouping columns will be excluded from the operation. Either pass `include_groups=False` to exclude the groupings or explicitly select the grouping columns after groupby to silence this warning.\n",
      "  .apply(_resample_patient)\n"
     ]
    },
    {
     "data": {
      "text/html": [
       "<div>\n",
       "<style scoped>\n",
       "    .dataframe tbody tr th:only-of-type {\n",
       "        vertical-align: middle;\n",
       "    }\n",
       "\n",
       "    .dataframe tbody tr th {\n",
       "        vertical-align: top;\n",
       "    }\n",
       "\n",
       "    .dataframe thead th {\n",
       "        text-align: right;\n",
       "    }\n",
       "</style>\n",
       "<table border=\"1\" class=\"dataframe\">\n",
       "  <thead>\n",
       "    <tr style=\"text-align: right;\">\n",
       "      <th></th>\n",
       "      <th>timestamp</th>\n",
       "      <th>glucose</th>\n",
       "      <th>insulin</th>\n",
       "      <th>patient_id</th>\n",
       "    </tr>\n",
       "  </thead>\n",
       "  <tbody>\n",
       "    <tr>\n",
       "      <th>0</th>\n",
       "      <td>1991-04-21 09:00:00</td>\n",
       "      <td>100.0</td>\n",
       "      <td>22.0</td>\n",
       "      <td>1</td>\n",
       "    </tr>\n",
       "    <tr>\n",
       "      <th>1</th>\n",
       "      <td>1991-04-21 10:00:00</td>\n",
       "      <td>100.0</td>\n",
       "      <td>0.0</td>\n",
       "      <td>1</td>\n",
       "    </tr>\n",
       "    <tr>\n",
       "      <th>2</th>\n",
       "      <td>1991-04-21 11:00:00</td>\n",
       "      <td>100.0</td>\n",
       "      <td>0.0</td>\n",
       "      <td>1</td>\n",
       "    </tr>\n",
       "    <tr>\n",
       "      <th>3</th>\n",
       "      <td>1991-04-21 12:00:00</td>\n",
       "      <td>100.0</td>\n",
       "      <td>0.0</td>\n",
       "      <td>1</td>\n",
       "    </tr>\n",
       "    <tr>\n",
       "      <th>4</th>\n",
       "      <td>1991-04-21 13:00:00</td>\n",
       "      <td>100.0</td>\n",
       "      <td>0.0</td>\n",
       "      <td>1</td>\n",
       "    </tr>\n",
       "  </tbody>\n",
       "</table>\n",
       "</div>"
      ],
      "text/plain": [
       "            timestamp  glucose  insulin  patient_id\n",
       "0 1991-04-21 09:00:00    100.0     22.0           1\n",
       "1 1991-04-21 10:00:00    100.0      0.0           1\n",
       "2 1991-04-21 11:00:00    100.0      0.0           1\n",
       "3 1991-04-21 12:00:00    100.0      0.0           1\n",
       "4 1991-04-21 13:00:00    100.0      0.0           1"
      ]
     },
     "metadata": {},
     "output_type": "display_data"
    }
   ],
   "source": [
    "# ======================\n",
    "# Cell 4A — Resample to hourly, align signals per patient\n",
    "# ======================\n",
    "# Input: df with columns ['patient_id','timestamp','glucose','insulin'] from Cell 4\n",
    "# Output: df_aligned with clean hourly steps per patient\n",
    "\n",
    "import pandas as pd\n",
    "import numpy as np\n",
    "\n",
    "assert {\"patient_id\",\"timestamp\",\"glucose\",\"insulin\"}.issubset(df.columns)\n",
    "\n",
    "# ensure proper types\n",
    "df_tmp = df.dropna(subset=[\"timestamp\"]).copy()\n",
    "df_tmp[\"glucose\"] = pd.to_numeric(df_tmp[\"glucose\"], errors=\"coerce\")\n",
    "df_tmp[\"insulin\"] = pd.to_numeric(df_tmp[\"insulin\"], errors=\"coerce\")\n",
    "\n",
    "def _resample_patient(g):\n",
    "    g = g.set_index(\"timestamp\").sort_index()\n",
    "\n",
    "    # hourly resample:\n",
    "    # - glucose: take the last reading in the hour (closest to “true” measurement)\n",
    "    # - insulin: sum doses in that hour\n",
    "    g_hour = pd.DataFrame({\n",
    "        \"glucose\": g[\"glucose\"].resample(\"1H\").last(),\n",
    "        \"insulin\": g[\"insulin\"].resample(\"1H\").sum(min_count=1)\n",
    "    })\n",
    "\n",
    "    # short forward-fill for glucose (e.g., up to 6 hours) to create consecutive steps\n",
    "    g_hour[\"glucose\"] = g_hour[\"glucose\"].ffill(limit=6)\n",
    "\n",
    "    # if no insulin recorded in an hour, treat as 0 units\n",
    "    g_hour[\"insulin\"] = g_hour[\"insulin\"].fillna(0.0)\n",
    "\n",
    "    # keep a patient_id column\n",
    "    g_hour[\"patient_id\"] = g[\"patient_id\"].iloc[0]\n",
    "    return g_hour.reset_index()\n",
    "\n",
    "df_aligned = (\n",
    "    df_tmp.groupby(\"patient_id\", group_keys=False)\n",
    "          .apply(_resample_patient)\n",
    "          .dropna(subset=[\"glucose\"])            # require a glucose value for the step\n",
    "          .reset_index(drop=True)\n",
    ")\n",
    "\n",
    "# (optional, same as original) basic plausibility clip to avoid wild outliers\n",
    "df_aligned[\"glucose\"] = df_aligned[\"glucose\"].clip(lower=40, upper=600)\n",
    "\n",
    "print(\"Aligned shape:\", df_aligned.shape, \"| patients:\", df_aligned[\"patient_id\"].nunique())\n",
    "display(df_aligned.head())\n",
    "\n",
    "# hand off to Cell 5:\n",
    "df = df_aligned.rename(columns={\"index\":\"timestamp\"})  # keep df name for subsequent cells\n"
   ]
  },
  {
   "cell_type": "code",
   "execution_count": 11,
   "metadata": {
    "execution": {
     "iopub.execute_input": "2025-08-31T10:18:44.152446Z",
     "iopub.status.busy": "2025-08-31T10:18:44.152211Z",
     "iopub.status.idle": "2025-08-31T10:18:45.040935Z",
     "shell.execute_reply": "2025-08-31T10:18:45.040384Z",
     "shell.execute_reply.started": "2025-08-31T10:18:44.152426Z"
    },
    "trusted": true
   },
   "outputs": [
    {
     "name": "stderr",
     "output_type": "stream",
     "text": [
      "/tmp/ipykernel_36/1264689240.py:41: DeprecationWarning: DataFrameGroupBy.apply operated on the grouping columns. This behavior is deprecated, and in a future version of pandas the grouping columns will be excluded from the operation. Either pass `include_groups=False` to exclude the groupings or explicitly select the grouping columns after groupby to silence this warning.\n",
      "  df_fe = df_fe.groupby(\"patient_id\", group_keys=False).apply(_add_group_features)\n",
      "/usr/local/lib/python3.11/dist-packages/pandas/core/algorithms.py:1743: DeprecationWarning: is_sparse is deprecated and will be removed in a future version. Check `isinstance(dtype, pd.SparseDtype)` instead.\n",
      "  return lib.map_infer(values, mapper, convert=convert)\n"
     ]
    },
    {
     "name": "stdout",
     "output_type": "stream",
     "text": [
      "Split sizes | train:37875  val:12113  test:11327\n",
      "Patients    | train:41  val:11  test:13\n"
     ]
    },
    {
     "name": "stderr",
     "output_type": "stream",
     "text": [
      "/usr/local/lib/python3.11/dist-packages/sklearn/utils/validation.py:605: DeprecationWarning: is_sparse is deprecated and will be removed in a future version. Check `isinstance(dtype, pd.SparseDtype)` instead.\n",
      "  if is_sparse(pd_dtype):\n",
      "/usr/local/lib/python3.11/dist-packages/pandas/core/algorithms.py:1743: DeprecationWarning: is_sparse is deprecated and will be removed in a future version. Check `isinstance(dtype, pd.SparseDtype)` instead.\n",
      "  return lib.map_infer(values, mapper, convert=convert)\n",
      "/usr/local/lib/python3.11/dist-packages/sklearn/utils/validation.py:605: DeprecationWarning: is_sparse is deprecated and will be removed in a future version. Check `isinstance(dtype, pd.SparseDtype)` instead.\n",
      "  if is_sparse(pd_dtype):\n",
      "/usr/local/lib/python3.11/dist-packages/pandas/core/algorithms.py:1743: DeprecationWarning: is_sparse is deprecated and will be removed in a future version. Check `isinstance(dtype, pd.SparseDtype)` instead.\n",
      "  return lib.map_infer(values, mapper, convert=convert)\n",
      "/usr/local/lib/python3.11/dist-packages/sklearn/utils/validation.py:605: DeprecationWarning: is_sparse is deprecated and will be removed in a future version. Check `isinstance(dtype, pd.SparseDtype)` instead.\n",
      "  if is_sparse(pd_dtype):\n",
      "/usr/local/lib/python3.11/dist-packages/pandas/core/algorithms.py:1743: DeprecationWarning: is_sparse is deprecated and will be removed in a future version. Check `isinstance(dtype, pd.SparseDtype)` instead.\n",
      "  return lib.map_infer(values, mapper, convert=convert)\n",
      "/usr/local/lib/python3.11/dist-packages/sklearn/utils/validation.py:605: DeprecationWarning: is_sparse is deprecated and will be removed in a future version. Check `isinstance(dtype, pd.SparseDtype)` instead.\n",
      "  if is_sparse(pd_dtype):\n"
     ]
    },
    {
     "data": {
      "image/png": "[encoded data removed]",
      "text/plain": [
       "<Figure size 700x500 with 2 Axes>"
      ]
     },
     "metadata": {},
     "output_type": "display_data"
    },
    {
     "data": {
      "text/html": [
       "<a href='outputs_clean/corr_heatmap.png' target='_blank'>outputs_clean/corr_heatmap.png</a><br>"
      ],
      "text/plain": [
       "/kaggle/working/outputs_clean/corr_heatmap.png"
      ]
     },
     "metadata": {},
     "output_type": "display_data"
    },
    {
     "name": "stdout",
     "output_type": "stream",
     "text": [
      "\n",
      "Columns in train_df:\n",
      "['timestamp', 'glucose', 'insulin', 'patient_id', 'hour', 'dow', 'glucose_lag1', 'glucose_lag2', 'insulin_lag1', 'glucose_roll3'] ... ['glucose_z', 'glucose_lag1_z', 'glucose_lag2_z', 'glucose_roll3_z', 'glucose_roll6_z', 'insulin_z', 'insulin_lag1_z', 'insulin_sum3_z', 'hour_z', 'dow_z']\n",
      "\n",
      "Sample rows:\n"
     ]
    },
    {
     "data": {
      "text/html": [
       "<div>\n",
       "<style scoped>\n",
       "    .dataframe tbody tr th:only-of-type {\n",
       "        vertical-align: middle;\n",
       "    }\n",
       "\n",
       "    .dataframe tbody tr th {\n",
       "        vertical-align: top;\n",
       "    }\n",
       "\n",
       "    .dataframe thead th {\n",
       "        text-align: right;\n",
       "    }\n",
       "</style>\n",
       "<table border=\"1\" class=\"dataframe\">\n",
       "  <thead>\n",
       "    <tr style=\"text-align: right;\">\n",
       "      <th></th>\n",
       "      <th>patient_id</th>\n",
       "      <th>timestamp</th>\n",
       "      <th>glucose</th>\n",
       "      <th>insulin</th>\n",
       "      <th>glucose_next</th>\n",
       "      <th>glucose_z</th>\n",
       "      <th>glucose_lag1_z</th>\n",
       "      <th>glucose_lag2_z</th>\n",
       "      <th>glucose_roll3_z</th>\n",
       "    </tr>\n",
       "  </thead>\n",
       "  <tbody>\n",
       "    <tr>\n",
       "      <th>1808</th>\n",
       "      <td>2</td>\n",
       "      <td>1989-10-10 10:00:00</td>\n",
       "      <td>149.0</td>\n",
       "      <td>0.0</td>\n",
       "      <td>149.0</td>\n",
       "      <td>-0.017290</td>\n",
       "      <td>-0.017561</td>\n",
       "      <td>-0.017762</td>\n",
       "      <td>-0.018732</td>\n",
       "    </tr>\n",
       "    <tr>\n",
       "      <th>1809</th>\n",
       "      <td>2</td>\n",
       "      <td>1989-10-10 11:00:00</td>\n",
       "      <td>149.0</td>\n",
       "      <td>0.0</td>\n",
       "      <td>116.0</td>\n",
       "      <td>-0.017290</td>\n",
       "      <td>-0.017561</td>\n",
       "      <td>-0.017762</td>\n",
       "      <td>-0.018732</td>\n",
       "    </tr>\n",
       "    <tr>\n",
       "      <th>1810</th>\n",
       "      <td>2</td>\n",
       "      <td>1989-10-10 12:00:00</td>\n",
       "      <td>116.0</td>\n",
       "      <td>4.0</td>\n",
       "      <td>116.0</td>\n",
       "      <td>-0.468082</td>\n",
       "      <td>-0.017561</td>\n",
       "      <td>-0.017762</td>\n",
       "      <td>-0.179238</td>\n",
       "    </tr>\n",
       "    <tr>\n",
       "      <th>1811</th>\n",
       "      <td>2</td>\n",
       "      <td>1989-10-10 13:00:00</td>\n",
       "      <td>116.0</td>\n",
       "      <td>0.0</td>\n",
       "      <td>116.0</td>\n",
       "      <td>-0.468082</td>\n",
       "      <td>-0.468395</td>\n",
       "      <td>-0.017762</td>\n",
       "      <td>-0.339744</td>\n",
       "    </tr>\n",
       "    <tr>\n",
       "      <th>1812</th>\n",
       "      <td>2</td>\n",
       "      <td>1989-10-10 14:00:00</td>\n",
       "      <td>116.0</td>\n",
       "      <td>0.0</td>\n",
       "      <td>116.0</td>\n",
       "      <td>-0.468082</td>\n",
       "      <td>-0.468395</td>\n",
       "      <td>-0.468632</td>\n",
       "      <td>-0.500251</td>\n",
       "    </tr>\n",
       "  </tbody>\n",
       "</table>\n",
       "</div>"
      ],
      "text/plain": [
       "      patient_id           timestamp  glucose  insulin  glucose_next  \\\n",
       "1808           2 1989-10-10 10:00:00    149.0      0.0         149.0   \n",
       "1809           2 1989-10-10 11:00:00    149.0      0.0         116.0   \n",
       "1810           2 1989-10-10 12:00:00    116.0      4.0         116.0   \n",
       "1811           2 1989-10-10 13:00:00    116.0      0.0         116.0   \n",
       "1812           2 1989-10-10 14:00:00    116.0      0.0         116.0   \n",
       "\n",
       "      glucose_z  glucose_lag1_z  glucose_lag2_z  glucose_roll3_z  \n",
       "1808  -0.017290       -0.017561       -0.017762        -0.018732  \n",
       "1809  -0.017290       -0.017561       -0.017762        -0.018732  \n",
       "1810  -0.468082       -0.017561       -0.017762        -0.179238  \n",
       "1811  -0.468082       -0.468395       -0.017762        -0.339744  \n",
       "1812  -0.468082       -0.468395       -0.468632        -0.500251  "
      ]
     },
     "metadata": {},
     "output_type": "display_data"
    }
   ],
   "source": [
    "# ======================\n",
    "# Cell 5 — Feature engineering + splits + correlation heatmap\n",
    "# ======================\n",
    "# Input: df with columns ['patient_id','timestamp','glucose','insulin'] from Cell 4\n",
    "# Output:\n",
    "#   - train_df, val_df, test_df  (clean, feature-ready)\n",
    "#   - FEATURES (list), TARGET (str), SCALED_FEATURES (list)\n",
    "#   - scaler  (sklearn StandardScaler fitted on train)\n",
    "#   - Saved visual: outputs_clean/corr_heatmap.png (+download link)\n",
    "\n",
    "import numpy as np\n",
    "import pandas as pd\n",
    "from sklearn.model_selection import train_test_split\n",
    "from sklearn.preprocessing import StandardScaler\n",
    "import matplotlib.pyplot as plt\n",
    "import seaborn as sns\n",
    "from IPython.display import FileLink\n",
    "\n",
    "assert {\"patient_id\",\"timestamp\",\"glucose\",\"insulin\"}.issubset(df.columns), \\\n",
    "    \"df must have patient_id, timestamp, glucose, insulin from Cell 4.\"\n",
    "\n",
    "# ---- 5.1: sort & basic cleaning\n",
    "df_fe = df.sort_values([\"patient_id\",\"timestamp\"]).copy()\n",
    "\n",
    "# ---- 5.2: create time features (hour-of-day & day-of-week if timestamps exist)\n",
    "df_fe[\"hour\"] = df_fe[\"timestamp\"].dt.hour\n",
    "df_fe[\"dow\"]  = df_fe[\"timestamp\"].dt.dayofweek\n",
    "\n",
    "# ---- 5.3: per-patient lags/rolling stats for glucose & insulin\n",
    "def _add_group_features(g):\n",
    "    # short lags\n",
    "    g[\"glucose_lag1\"]  = g[\"glucose\"].shift(1)\n",
    "    g[\"glucose_lag2\"]  = g[\"glucose\"].shift(2)\n",
    "    g[\"insulin_lag1\"]  = g[\"insulin\"].shift(1)\n",
    "    # rolling summaries (use min_periods=1 so early rows aren’t all NaN)\n",
    "    g[\"glucose_roll3\"] = g[\"glucose\"].rolling(window=3, min_periods=1).mean()\n",
    "    g[\"glucose_roll6\"] = g[\"glucose\"].rolling(window=6, min_periods=2).mean()\n",
    "    g[\"insulin_sum3\"]  = g[\"insulin\"].rolling(window=3,  min_periods=1).sum()\n",
    "    return g\n",
    "\n",
    "df_fe = df_fe.groupby(\"patient_id\", group_keys=False).apply(_add_group_features)\n",
    "\n",
    "# ---- 5.4: target for simple dynamics (next-step glucose)\n",
    "df_fe[\"glucose_next\"] = df_fe.groupby(\"patient_id\")[\"glucose\"].shift(-1)\n",
    "\n",
    "# After creating lags & target, drop rows that can’t be used for supervised steps\n",
    "df_fe = df_fe.dropna(subset=[\"glucose_lag1\",\"glucose_next\"]).reset_index(drop=True)\n",
    "\n",
    "# ---- 5.5: choose feature set (compact & stable — expand later if you like)\n",
    "FEATURES = [\n",
    "    \"glucose\",\"glucose_lag1\",\"glucose_lag2\",\"glucose_roll3\",\"glucose_roll6\",\n",
    "    \"insulin\",\"insulin_lag1\",\"insulin_sum3\",\n",
    "    \"hour\",\"dow\"\n",
    "]\n",
    "TARGET = \"glucose_next\"\n",
    "\n",
    "# Safety: coerce any remaining non-numeric to numeric\n",
    "for c in FEATURES + [TARGET]:\n",
    "    df_fe[c] = pd.to_numeric(df_fe[c], errors=\"coerce\")\n",
    "df_fe = df_fe.dropna(subset=FEATURES+[TARGET])\n",
    "\n",
    "# ---- 5.6: split by patient (no leakage)\n",
    "RANDOM_SEED = 42\n",
    "patients = df_fe[\"patient_id\"].unique()\n",
    "train_p, test_p = train_test_split(patients, test_size=0.2, random_state=RANDOM_SEED)\n",
    "train_p, val_p  = train_test_split(train_p,  test_size=0.2, random_state=RANDOM_SEED)\n",
    "\n",
    "def _mask(ids): return df_fe[\"patient_id\"].isin(ids)\n",
    "train_df = df_fe[_mask(train_p)].copy()\n",
    "val_df   = df_fe[_mask(val_p)].copy()\n",
    "test_df  = df_fe[_mask(test_p)].copy()\n",
    "\n",
    "print(f\"Split sizes | train:{len(train_df)}  val:{len(val_df)}  test:{len(test_df)}\")\n",
    "print(f\"Patients    | train:{len(train_p)}  val:{len(val_p)}  test:{len(test_p)}\")\n",
    "\n",
    "# ---- 5.7: scale features with train-only fit (prevent leakage)\n",
    "scaler = StandardScaler().fit(train_df[FEATURES])\n",
    "for _df in (train_df, val_df, test_df):\n",
    "    _df[[f\"{c}_z\" for c in FEATURES]] = scaler.transform(_df[FEATURES])\n",
    "\n",
    "SCALED_FEATURES = [f\"{c}_z\" for c in FEATURES]\n",
    "\n",
    "# ---- 5.8: correlation heatmap (train only) — SAVE + DOWNLOAD LINK\n",
    "corr = train_df[FEATURES + [TARGET]].corr(numeric_only=True)\n",
    "\n",
    "plt.figure(figsize=(7,5))\n",
    "sns.heatmap(corr, annot=False, vmin=-1, vmax=1, cmap=\"vlag\")\n",
    "plt.title(\"Feature Correlation (train)\")\n",
    "plt.tight_layout()\n",
    "\n",
    "# Save and link\n",
    "out_path = OUTPUT_DIR/\"corr_heatmap.png\"\n",
    "plt.savefig(out_path, dpi=300, bbox_inches=\"tight\")\n",
    "plt.show()\n",
    "display(FileLink(out_path))\n",
    "\n",
    "# ---- 5.9: quick preview of the final schema\n",
    "print(\"\\nColumns in train_df:\")\n",
    "print(train_df.columns.tolist()[:10], \"...\", train_df.columns.tolist()[-10:])\n",
    "print(\"\\nSample rows:\")\n",
    "display(train_df[[\"patient_id\",\"timestamp\",\"glucose\",\"insulin\",TARGET] + SCALED_FEATURES[:4]].head())\n"
   ]
  },
  {
   "cell_type": "code",
   "execution_count": 12,
   "metadata": {
    "execution": {
     "iopub.execute_input": "2025-08-31T10:18:45.041975Z",
     "iopub.status.busy": "2025-08-31T10:18:45.041680Z",
     "iopub.status.idle": "2025-08-31T10:18:45.074680Z",
     "shell.execute_reply": "2025-08-31T10:18:45.074131Z",
     "shell.execute_reply.started": "2025-08-31T10:18:45.041957Z"
    },
    "trusted": true
   },
   "outputs": [
    {
     "name": "stdout",
     "output_type": "stream",
     "text": [
      "Env ready: episodes — 41 train / 11 val / 13 test\n"
     ]
    }
   ],
   "source": [
    "# ======================\n",
    "# Cell 6 — DiabetesEnv (3 discrete insulin intensities) + helpers\n",
    "# ======================\n",
    "# Uses the feature matrices we prepared in Cell 5.\n",
    "# Observations are z-scored features (SCALED_FEATURES).\n",
    "# Actions: 0 = no/low, 1 = moderate, 2 = high (to match original thesis).\n",
    "# Reward is decomposed into: range (TIR), hypo penalty, treatment cost.\n",
    "\n",
    "import numpy as np\n",
    "import pandas as pd\n",
    "import gymnasium as gym\n",
    "from gymnasium import spaces\n",
    "from typing import List, Dict, Tuple, Optional\n",
    "\n",
    "# ---- ensure we use 3 actions, as per report (overrides Cell 2 if needed)\n",
    "ACTIONS_MU = [0, 1, 2]         # 0=no/low, 1=moderate, 2=high\n",
    "ACTION_UNITS = {0: 0.0, 1: 2.0, 2: 6.0}   # \"insulin units\" used for reporting/cost (tuneable)\n",
    "DROP_MGDL   = {0:  0.0, 1: 12.0, 2: 24.0} # approximate glucose reduction per action (sim signal)\n",
    "\n",
    "# ---- helpers to pre-index episodes (one episode = one patient's timeline)\n",
    "def build_episodes(df_split: pd.DataFrame) -> List[Tuple[int, int]]:\n",
    "    \"\"\"Return [(start_idx, end_idx_exclusive)] for each patient in this split,\n",
    "    assuming df_split is sorted by (patient_id, timestamp).\"\"\"\n",
    "    ep_bounds = []\n",
    "    for pid, g in df_split.groupby(\"patient_id\", sort=False):\n",
    "        if len(g) < 3:   # need at least two transitions\n",
    "            continue\n",
    "        s = g.index.min()\n",
    "        e = g.index.max() + 1\n",
    "        ep_bounds.append((int(s), int(e)))\n",
    "    return ep_bounds\n",
    "\n",
    "class DiabetesEnv(gym.Env):\n",
    "    metadata = {\"render_modes\": [\"human\"]}\n",
    "\n",
    "    def __init__(\n",
    "        self,\n",
    "        df_split: pd.DataFrame,\n",
    "        feature_cols: List[str],\n",
    "        tir_bounds: Tuple[float, float] = (70.0, 180.0),\n",
    "        hypo_bound: float = 70.0,\n",
    "        hyper_bound: float = 180.0,\n",
    "        shuffle_episodes: bool = True,\n",
    "        seed: int = 42,\n",
    "    ):\n",
    "        \"\"\"\n",
    "        df_split: dataframe containing SCALED_FEATURES + raw 'glucose' and 'glucose_next'\n",
    "                  and 'patient_id','timestamp'\n",
    "        feature_cols: list of z-scored features to use as observation (SCALED_FEATURES)\n",
    "        shuffle_episodes: if True, pick a random patient episode at each reset (train);\n",
    "                          if False, iterate in order (eval)\n",
    "        \"\"\"\n",
    "        super().__init__()\n",
    "        self.df = df_split.copy()\n",
    "        self.features = feature_cols\n",
    "        self.tir_bounds = tir_bounds\n",
    "        self.hypo_bound = hypo_bound\n",
    "        self.hyper_bound = hyper_bound\n",
    "        self.shuffle_episodes = shuffle_episodes\n",
    "        self.rng = np.random.default_rng(seed)\n",
    "\n",
    "        # observation = vector of z-scored features\n",
    "        self.observation_space = spaces.Box(\n",
    "            low=-np.inf, high=np.inf, shape=(len(self.features),), dtype=np.float32\n",
    "        )\n",
    "        # action = 3 discrete insulin intensities\n",
    "        self.action_space = spaces.Discrete(3)\n",
    "\n",
    "        # precompute episode boundaries per patient\n",
    "        self.ep_bounds = build_episodes(self.df.sort_values([\"patient_id\", \"timestamp\"]))\n",
    "        if len(self.ep_bounds) == 0:\n",
    "            raise ValueError(\"No valid episodes found; check previous cells.\")\n",
    "\n",
    "        # internal state\n",
    "        self.cur_start = None\n",
    "        self.cur_end = None\n",
    "        self.i = None  # current row index\n",
    "\n",
    "    # ----- reward decomposition (transparent!)\n",
    "    def _decompose_reward(self, g_now: float, g_next_sim: float, action_units: float) -> Dict[str, float]:\n",
    "        # +range: +1 if next glucose is inside TIR\n",
    "        r_range = 1.0 if (self.tir_bounds[0] <= g_next_sim <= self.tir_bounds[1]) else 0.0\n",
    "        # -hypo penalty\n",
    "        r_hypo = -2.0 if g_next_sim < 54.0 else (-1.0 if g_next_sim < self.hypo_bound else 0.0)\n",
    "        # -hyper penalty\n",
    "        r_hyper = -1.0 if g_next_sim > self.hyper_bound else 0.0\n",
    "        # -treatment cost (small penalty per unit)\n",
    "        r_cost = -0.05 * action_units\n",
    "        total = r_range + r_hypo + r_hyper + r_cost\n",
    "        return {\"total\": total, \"range\": r_range, \"hypo\": r_hypo, \"hyper\": r_hyper, \"cost\": r_cost}\n",
    "\n",
    "    def _obs(self) -> np.ndarray:\n",
    "        row = self.df.loc[self.i, self.features]\n",
    "        return row.to_numpy(dtype=np.float32)\n",
    "\n",
    "    def reset(self, *, seed: Optional[int] = None, options: Optional[dict] = None):\n",
    "        super().reset(seed=seed)\n",
    "        # pick an episode (patient) — random for training, sequential for eval\n",
    "        if self.shuffle_episodes:\n",
    "            self.cur_start, self.cur_end = self.ep_bounds[self.rng.integers(len(self.ep_bounds))]\n",
    "        else:\n",
    "            # keep a simple pointer in 'options' for eval loops\n",
    "            ptr = (options or {}).get(\"episode_ptr\", 0) % len(self.ep_bounds)\n",
    "            self.cur_start, self.cur_end = self.ep_bounds[ptr]\n",
    "\n",
    "        self.i = self.cur_start\n",
    "        return self._obs(), {}\n",
    "\n",
    "    def step(self, action: int):\n",
    "        # map action -> simulated insulin units + drop in mg/dL\n",
    "        units = ACTION_UNITS[int(action)]\n",
    "        drop  = DROP_MGDL[int(action)]\n",
    "\n",
    "        # read current & reference next glucose from data\n",
    "        g_now = float(self.df.loc[self.i, \"glucose\"])\n",
    "        g_ref = float(self.df.loc[self.i, \"glucose_next\"])\n",
    "\n",
    "        # simulate effect: reduce ref by a calibrated drop (clamped to safe range)\n",
    "        g_next_sim = max(40.0, g_ref - drop)\n",
    "\n",
    "        # transparent reward parts\n",
    "        parts = self._decompose_reward(g_now, g_next_sim, units)\n",
    "        reward = parts[\"total\"]\n",
    "\n",
    "        # advance within current episode\n",
    "        self.i += 1\n",
    "        terminated = (self.i >= self.cur_end - 1)  # last usable transition is end-1\n",
    "\n",
    "        info = {\n",
    "            \"patient_id\": int(self.df.loc[self.i - 1, \"patient_id\"]),\n",
    "            \"time\": self.df.loc[self.i - 1, \"timestamp\"],\n",
    "            \"glucose_now\": g_now,\n",
    "            \"glucose_ref_next\": g_ref,\n",
    "            \"glucose_sim_next\": g_next_sim,\n",
    "            \"action_units\": units,\n",
    "            \"reward_parts\": parts,\n",
    "        }\n",
    "\n",
    "        obs = self._obs() if not terminated else np.zeros(len(self.features), dtype=np.float32)\n",
    "        return obs, reward, terminated, False, info\n",
    "\n",
    "# ---- convenience makers for SB3\n",
    "from stable_baselines3.common.vec_env import DummyVecEnv\n",
    "from stable_baselines3.common.monitor import Monitor\n",
    "\n",
    "def make_env_from_split(split_df: pd.DataFrame, shuffle_episodes: bool) -> DummyVecEnv:\n",
    "    \"\"\"Wrap the DiabetesEnv with Monitor + DummyVecEnv for SB3.\"\"\"\n",
    "    def _factory():\n",
    "        env = DiabetesEnv(\n",
    "            df_split=split_df.sort_values([\"patient_id\",\"timestamp\"]),\n",
    "            feature_cols=SCALED_FEATURES,\n",
    "            tir_bounds=TIR_BOUNDS,\n",
    "            hypo_bound=HYPO_BOUND,\n",
    "            hyper_bound=HYPER_BOUND,\n",
    "            shuffle_episodes=shuffle_episodes,\n",
    "            seed=RANDOM_SEED,\n",
    "        )\n",
    "        return Monitor(env)\n",
    "    return DummyVecEnv([_factory])\n",
    "\n",
    "print(\"Env ready: episodes —\",\n",
    "      len(build_episodes(train_df)), \"train /\",\n",
    "      len(build_episodes(val_df)), \"val /\",\n",
    "      len(build_episodes(test_df)), \"test\")\n"
   ]
  },
  {
   "cell_type": "code",
   "execution_count": 13,
   "metadata": {
    "execution": {
     "iopub.execute_input": "2025-08-31T10:18:45.075707Z",
     "iopub.status.busy": "2025-08-31T10:18:45.075456Z",
     "iopub.status.idle": "2025-08-31T10:18:54.841912Z",
     "shell.execute_reply": "2025-08-31T10:18:54.841223Z",
     "shell.execute_reply.started": "2025-08-31T10:18:45.075689Z"
    },
    "trusted": true
   },
   "outputs": [
    {
     "name": "stdout",
     "output_type": "stream",
     "text": [
      "Saved baseline metrics to: outputs_clean/baseline_rule_metrics.json\n"
     ]
    },
    {
     "data": {
      "text/html": [
       "<a href='outputs_clean/baseline_rule_metrics.json' target='_blank'>outputs_clean/baseline_rule_metrics.json</a><br>"
      ],
      "text/plain": [
       "/kaggle/working/outputs_clean/baseline_rule_metrics.json"
      ]
     },
     "metadata": {},
     "output_type": "display_data"
    },
    {
     "name": "stdout",
     "output_type": "stream",
     "text": [
      "\n",
      "[Rule baseline] VAL macro: {'episodes': 11, 'return_mean': -4.809090909091356, 'TIR_mean': 51.79981340233734, 'hypo_steps_mean': 117.0, 'hyper_steps_mean': 370.90909090909093, 'insulin_per_step_mean': 1.464524976837161, 'mean_glucose_mean': 162.8220695504099}\n",
      "[Rule baseline] TEST macro: {'episodes': 13, 'return_mean': -196.60769230769318, 'TIR_mean': 45.12596103355907, 'hypo_steps_mean': 87.6923076923077, 'hyper_steps_mean': 383.15384615384613, 'insulin_per_step_mean': 1.8846275567571131, 'mean_glucose_mean': 179.2813010729314}\n"
     ]
    }
   ],
   "source": [
    "# ======================\n",
    "# Cell 7 — Envs + Rule Baseline + Evaluation\n",
    "# ======================\n",
    "# Creates SB3-friendly train env (shuffled episodes) and clean eval envs (ordered episodes).\n",
    "# Provides:\n",
    "#   - rule_action(glucose): simple proportional controller\n",
    "#   - rollout_eval(env, policy_fn): returns metrics over all episodes\n",
    "#   - Saves baseline metrics to outputs_clean/baseline_rule_metrics.json\n",
    "\n",
    "import json\n",
    "import numpy as np\n",
    "from IPython.display import FileLink\n",
    "\n",
    "# --- vectorized train env for SB3 (random episodes)\n",
    "train_env = make_env_from_split(train_df, shuffle_episodes=True)\n",
    "\n",
    "# --- non-vectorized eval envs (ordered episodes), easier for deterministic rollouts & plots\n",
    "val_env_raw  = DiabetesEnv(val_df.sort_values([\"patient_id\",\"timestamp\"]),\n",
    "                           feature_cols=SCALED_FEATURES,\n",
    "                           tir_bounds=TIR_BOUNDS, hypo_bound=HYPO_BOUND, hyper_bound=HYPER_BOUND,\n",
    "                           shuffle_episodes=False, seed=RANDOM_SEED)\n",
    "test_env_raw = DiabetesEnv(test_df.sort_values([\"patient_id\",\"timestamp\"]),\n",
    "                           feature_cols=SCALED_FEATURES,\n",
    "                           tir_bounds=TIR_BOUNDS, hypo_bound=HYPO_BOUND, hyper_bound=HYPER_BOUND,\n",
    "                           shuffle_episodes=False, seed=RANDOM_SEED)\n",
    "\n",
    "# ---------- Simple rule-based controller (matches thesis narrative)\n",
    "def rule_action(glucose_now: float) -> int:\n",
    "    \"\"\"\n",
    "    Map current raw glucose → action index {0,1,2}.\n",
    "    Conservative: avoid hypos, escalate only when clearly high.\n",
    "    \"\"\"\n",
    "    if glucose_now >= 250:   # very high → high dose\n",
    "        return 2\n",
    "    elif glucose_now >= 180: # moderately high → moderate dose\n",
    "        return 1\n",
    "    elif glucose_now < 80:   # low → no insulin\n",
    "        return 0\n",
    "    else:                    # in/near range → no insulin\n",
    "        return 0\n",
    "\n",
    "# ---------- Generic evaluation over *all* episodes of a DiabetesEnv\n",
    "def rollout_eval(env_raw: DiabetesEnv, policy_fn, name=\"policy\"):\n",
    "    \"\"\"\n",
    "    Evaluate policy_fn(env_info) over all patient episodes in env_raw (ordered).\n",
    "    Returns dict with episode-wise stats + macro-averages.\n",
    "    \"\"\"\n",
    "    ep_stats = []\n",
    "    for ep_idx, (start, end) in enumerate(env_raw.ep_bounds):\n",
    "        # reset to specific episode by passing pointer in options\n",
    "        obs, _ = env_raw.reset(options={\"episode_ptr\": ep_idx})\n",
    "        done = False\n",
    "\n",
    "        steps = 0\n",
    "        ret = 0.0\n",
    "        tir_steps = 0\n",
    "        hypo_steps = 0\n",
    "        hyper_steps = 0\n",
    "        insulin_sum = 0.0\n",
    "        glucose_sum = 0.0\n",
    "\n",
    "        while not done:\n",
    "            # we need current raw glucose -> use last step's info when available;\n",
    "            # for the first step, peek from dataframe via current index\n",
    "            # (env stores 'i' internally, so use underlying df safely):\n",
    "            g_now = float(env_raw.df.loc[env_raw.i, \"glucose\"])\n",
    "\n",
    "            # action from policy\n",
    "            a = policy_fn(g_now)\n",
    "\n",
    "            # environment step\n",
    "            obs, reward, terminated, truncated, info = env_raw.step(a)\n",
    "            done = terminated or truncated\n",
    "\n",
    "            # accumulate metrics from info\n",
    "            g_next = info[\"glucose_sim_next\"]\n",
    "            insulin_sum += float(info[\"action_units\"])\n",
    "            glucose_sum += float(info[\"glucose_now\"])\n",
    "            ret += float(reward)\n",
    "            steps += 1\n",
    "\n",
    "            # clinical bins on simulated next glucose (consistent with reward)\n",
    "            if TIR_BOUNDS[0] <= g_next <= TIR_BOUNDS[1]: tir_steps += 1\n",
    "            if g_next < HYPO_BOUND: hypo_steps += 1\n",
    "            if g_next > HYPER_BOUND: hyper_steps += 1\n",
    "\n",
    "        if steps == 0:  # safety\n",
    "            continue\n",
    "        ep_stats.append({\n",
    "            \"episode\": ep_idx,\n",
    "            \"patient_id\": int(env_raw.df.loc[start, \"patient_id\"]),\n",
    "            \"steps\": steps,\n",
    "            \"return\": ret,\n",
    "            \"TIR_pct\": 100.0 * tir_steps / steps,\n",
    "            \"hypo_steps\": hypo_steps,\n",
    "            \"hyper_steps\": hyper_steps,\n",
    "            \"insulin_per_step\": insulin_sum / steps,\n",
    "            \"mean_glucose\": glucose_sum / steps,\n",
    "        })\n",
    "\n",
    "    # macro-averages\n",
    "    if len(ep_stats) == 0:\n",
    "        raise RuntimeError(\"No episodes evaluated; check environment.\")\n",
    "    avg = {\n",
    "        \"episodes\": len(ep_stats),\n",
    "        \"return_mean\": float(np.mean([e[\"return\"] for e in ep_stats])),\n",
    "        \"TIR_mean\": float(np.mean([e[\"TIR_pct\"] for e in ep_stats])),\n",
    "        \"hypo_steps_mean\": float(np.mean([e[\"hypo_steps\"] for e in ep_stats])),\n",
    "        \"hyper_steps_mean\": float(np.mean([e[\"hyper_steps\"] for e in ep_stats])),\n",
    "        \"insulin_per_step_mean\": float(np.mean([e[\"insulin_per_step\"] for e in ep_stats])),\n",
    "        \"mean_glucose_mean\": float(np.mean([e[\"mean_glucose\"] for e in ep_stats])),\n",
    "    }\n",
    "    return {\"by_episode\": ep_stats, \"macro\": avg, \"policy\": name}\n",
    "\n",
    "# ---------- Run baseline on val & test, save to disk\n",
    "baseline_val  = rollout_eval(val_env_raw,  policy_fn=rule_action, name=\"rule_baseline(val)\")\n",
    "baseline_test = rollout_eval(test_env_raw, policy_fn=rule_action, name=\"rule_baseline(test)\")\n",
    "\n",
    "# Save JSON\n",
    "baseline_path = OUTPUT_DIR/\"baseline_rule_metrics.json\"\n",
    "with open(baseline_path, \"w\") as f:\n",
    "    json.dump({\"val\": baseline_val, \"test\": baseline_test}, f, indent=2)\n",
    "print(\"Saved baseline metrics to:\", baseline_path)\n",
    "\n",
    "# Clickable download link (Kaggle)\n",
    "display(FileLink(baseline_path))\n",
    "\n",
    "# Quick print of macro means (handy sanity check)\n",
    "print(\"\\n[Rule baseline] VAL macro:\", baseline_val[\"macro\"])\n",
    "print(\"[Rule baseline] TEST macro:\", baseline_test[\"macro\"])\n"
   ]
  },
  {
   "cell_type": "code",
   "execution_count": 14,
   "metadata": {
    "execution": {
     "iopub.execute_input": "2025-08-31T10:18:54.843049Z",
     "iopub.status.busy": "2025-08-31T10:18:54.842751Z",
     "iopub.status.idle": "2025-08-31T10:20:48.744433Z",
     "shell.execute_reply": "2025-08-31T10:20:48.743712Z",
     "shell.execute_reply.started": "2025-08-31T10:18:54.843023Z"
    },
    "trusted": true
   },
   "outputs": [
    {
     "name": "stdout",
     "output_type": "stream",
     "text": [
      "Using cuda device\n",
      "[training] starting… total_timesteps = 30000\n",
      "Eval num_timesteps=2048, episode_reward=-581.28 +/- 290.35\n",
      "Episode length: 1410.20 +/- 823.24\n",
      "---------------------------------\n",
      "| eval/              |          |\n",
      "|    mean_ep_length  | 1.41e+03 |\n",
      "|    mean_reward     | -581     |\n",
      "| time/              |          |\n",
      "|    total_timesteps | 2048     |\n",
      "---------------------------------\n",
      "New best mean reward!\n",
      "---------------------------------\n",
      "| rollout/           |          |\n",
      "|    ep_len_mean     | 608      |\n",
      "|    ep_rew_mean     | -180     |\n",
      "| time/              |          |\n",
      "|    fps             | 156      |\n",
      "|    iterations      | 1        |\n",
      "|    time_elapsed    | 13       |\n",
      "|    total_timesteps | 2048     |\n",
      "---------------------------------\n",
      "Eval num_timesteps=4096, episode_reward=131.70 +/- 530.87\n",
      "Episode length: 974.80 +/- 809.25\n",
      "-----------------------------------------\n",
      "| eval/                   |             |\n",
      "|    mean_ep_length       | 975         |\n",
      "|    mean_reward          | 132         |\n",
      "| time/                   |             |\n",
      "|    total_timesteps      | 4096        |\n",
      "| train/                  |             |\n",
      "|    approx_kl            | 0.008519217 |\n",
      "|    clip_fraction        | 0.0641      |\n",
      "|    clip_range           | 0.2         |\n",
      "|    entropy_loss         | -1.09       |\n",
      "|    explained_variance   | -0.00468    |\n",
      "|    learning_rate        | 0.0003      |\n",
      "|    loss                 | 27.5        |\n",
      "|    n_updates            | 10          |\n",
      "|    policy_gradient_loss | -0.00809    |\n",
      "|    value_loss           | 55.5        |\n",
      "-----------------------------------------\n",
      "New best mean reward!\n",
      "---------------------------------\n",
      "| rollout/           |          |\n",
      "|    ep_len_mean     | 608      |\n",
      "|    ep_rew_mean     | -180     |\n",
      "| time/              |          |\n",
      "|    fps             | 165      |\n",
      "|    iterations      | 2        |\n",
      "|    time_elapsed    | 24       |\n",
      "|    total_timesteps | 4096     |\n",
      "---------------------------------\n",
      "Eval num_timesteps=6144, episode_reward=100.16 +/- 457.16\n",
      "Episode length: 1184.60 +/- 712.60\n",
      "------------------------------------------\n",
      "| eval/                   |              |\n",
      "|    mean_ep_length       | 1.18e+03     |\n",
      "|    mean_reward          | 100          |\n",
      "| time/                   |              |\n",
      "|    total_timesteps      | 6144         |\n",
      "| train/                  |              |\n",
      "|    approx_kl            | 0.0069457553 |\n",
      "|    clip_fraction        | 0.0274       |\n",
      "|    clip_range           | 0.2          |\n",
      "|    entropy_loss         | -1.09        |\n",
      "|    explained_variance   | -0.0457      |\n",
      "|    learning_rate        | 0.0003       |\n",
      "|    loss                 | 20.1         |\n",
      "|    n_updates            | 20           |\n",
      "|    policy_gradient_loss | -0.00457     |\n",
      "|    value_loss           | 50.8         |\n",
      "------------------------------------------\n",
      "---------------------------------\n",
      "| rollout/           |          |\n",
      "|    ep_len_mean     | 1.15e+03 |\n",
      "|    ep_rew_mean     | 45.5     |\n",
      "| time/              |          |\n",
      "|    fps             | 165      |\n",
      "|    iterations      | 3        |\n",
      "|    time_elapsed    | 37       |\n",
      "|    total_timesteps | 6144     |\n",
      "---------------------------------\n",
      "Eval num_timesteps=8192, episode_reward=-262.56 +/- 554.52\n",
      "Episode length: 1664.00 +/- 979.38\n",
      "-----------------------------------------\n",
      "| eval/                   |             |\n",
      "|    mean_ep_length       | 1.66e+03    |\n",
      "|    mean_reward          | -263        |\n",
      "| time/                   |             |\n",
      "|    total_timesteps      | 8192        |\n",
      "| train/                  |             |\n",
      "|    approx_kl            | 0.008491282 |\n",
      "|    clip_fraction        | 0.0556      |\n",
      "|    clip_range           | 0.2         |\n",
      "|    entropy_loss         | -1.07       |\n",
      "|    explained_variance   | 0.0705      |\n",
      "|    learning_rate        | 0.0003      |\n",
      "|    loss                 | 24.6        |\n",
      "|    n_updates            | 30          |\n",
      "|    policy_gradient_loss | -0.00765    |\n",
      "|    value_loss           | 51.5        |\n",
      "-----------------------------------------\n",
      "---------------------------------\n",
      "| rollout/           |          |\n",
      "|    ep_len_mean     | 1.16e+03 |\n",
      "|    ep_rew_mean     | 104      |\n",
      "| time/              |          |\n",
      "|    fps             | 156      |\n",
      "|    iterations      | 4        |\n",
      "|    time_elapsed    | 52       |\n",
      "|    total_timesteps | 8192     |\n",
      "---------------------------------\n",
      "Eval num_timesteps=10240, episode_reward=16.04 +/- 528.74\n",
      "Episode length: 1400.80 +/- 901.73\n",
      "-----------------------------------------\n",
      "| eval/                   |             |\n",
      "|    mean_ep_length       | 1.4e+03     |\n",
      "|    mean_reward          | 16          |\n",
      "| time/                   |             |\n",
      "|    total_timesteps      | 10240       |\n",
      "| train/                  |             |\n",
      "|    approx_kl            | 0.006881043 |\n",
      "|    clip_fraction        | 0.0185      |\n",
      "|    clip_range           | 0.2         |\n",
      "|    entropy_loss         | -1.07       |\n",
      "|    explained_variance   | 0.196       |\n",
      "|    learning_rate        | 0.0003      |\n",
      "|    loss                 | 38          |\n",
      "|    n_updates            | 40          |\n",
      "|    policy_gradient_loss | -0.00417    |\n",
      "|    value_loss           | 75.3        |\n",
      "-----------------------------------------\n",
      "---------------------------------\n",
      "| rollout/           |          |\n",
      "|    ep_len_mean     | 980      |\n",
      "|    ep_rew_mean     | 14.6     |\n",
      "| time/              |          |\n",
      "|    fps             | 154      |\n",
      "|    iterations      | 5        |\n",
      "|    time_elapsed    | 66       |\n",
      "|    total_timesteps | 10240    |\n",
      "---------------------------------\n",
      "Eval num_timesteps=12288, episode_reward=-250.04 +/- 159.11\n",
      "Episode length: 919.00 +/- 748.63\n",
      "-----------------------------------------\n",
      "| eval/                   |             |\n",
      "|    mean_ep_length       | 919         |\n",
      "|    mean_reward          | -250        |\n",
      "| time/                   |             |\n",
      "|    total_timesteps      | 12288       |\n",
      "| train/                  |             |\n",
      "|    approx_kl            | 0.010014765 |\n",
      "|    clip_fraction        | 0.0627      |\n",
      "|    clip_range           | 0.2         |\n",
      "|    entropy_loss         | -1.04       |\n",
      "|    explained_variance   | -0.0934     |\n",
      "|    learning_rate        | 0.0003      |\n",
      "|    loss                 | 33.5        |\n",
      "|    n_updates            | 50          |\n",
      "|    policy_gradient_loss | -0.00517    |\n",
      "|    value_loss           | 76          |\n",
      "-----------------------------------------\n",
      "---------------------------------\n",
      "| rollout/           |          |\n",
      "|    ep_len_mean     | 957      |\n",
      "|    ep_rew_mean     | -6.69    |\n",
      "| time/              |          |\n",
      "|    fps             | 159      |\n",
      "|    iterations      | 6        |\n",
      "|    time_elapsed    | 77       |\n",
      "|    total_timesteps | 12288    |\n",
      "---------------------------------\n",
      "Eval num_timesteps=14336, episode_reward=-170.32 +/- 120.82\n",
      "Episode length: 597.80 +/- 29.64\n",
      "-----------------------------------------\n",
      "| eval/                   |             |\n",
      "|    mean_ep_length       | 598         |\n",
      "|    mean_reward          | -170        |\n",
      "| time/                   |             |\n",
      "|    total_timesteps      | 14336       |\n",
      "| train/                  |             |\n",
      "|    approx_kl            | 0.005711645 |\n",
      "|    clip_fraction        | 0.0286      |\n",
      "|    clip_range           | 0.2         |\n",
      "|    entropy_loss         | -1.02       |\n",
      "|    explained_variance   | 0.0877      |\n",
      "|    learning_rate        | 0.0003      |\n",
      "|    loss                 | 34.9        |\n",
      "|    n_updates            | 60          |\n",
      "|    policy_gradient_loss | -0.00356    |\n",
      "|    value_loss           | 69.8        |\n",
      "-----------------------------------------\n",
      "---------------------------------\n",
      "| rollout/           |          |\n",
      "|    ep_len_mean     | 1.11e+03 |\n",
      "|    ep_rew_mean     | 151      |\n",
      "| time/              |          |\n",
      "|    fps             | 166      |\n",
      "|    iterations      | 7        |\n",
      "|    time_elapsed    | 85       |\n",
      "|    total_timesteps | 14336    |\n",
      "---------------------------------\n",
      "Eval num_timesteps=16384, episode_reward=-178.70 +/- 194.33\n",
      "Episode length: 1279.40 +/- 797.58\n",
      "-----------------------------------------\n",
      "| eval/                   |             |\n",
      "|    mean_ep_length       | 1.28e+03    |\n",
      "|    mean_reward          | -179        |\n",
      "| time/                   |             |\n",
      "|    total_timesteps      | 16384       |\n",
      "| train/                  |             |\n",
      "|    approx_kl            | 0.012209174 |\n",
      "|    clip_fraction        | 0.082       |\n",
      "|    clip_range           | 0.2         |\n",
      "|    entropy_loss         | -0.899      |\n",
      "|    explained_variance   | 0.029       |\n",
      "|    learning_rate        | 0.0003      |\n",
      "|    loss                 | 38.2        |\n",
      "|    n_updates            | 70          |\n",
      "|    policy_gradient_loss | -0.0101     |\n",
      "|    value_loss           | 86.6        |\n",
      "-----------------------------------------\n",
      "---------------------------------\n",
      "| rollout/           |          |\n",
      "|    ep_len_mean     | 1.08e+03 |\n",
      "|    ep_rew_mean     | 95.3     |\n",
      "| time/              |          |\n",
      "|    fps             | 165      |\n",
      "|    iterations      | 8        |\n",
      "|    time_elapsed    | 98       |\n",
      "|    total_timesteps | 16384    |\n",
      "---------------------------------\n",
      "Eval num_timesteps=18432, episode_reward=-188.50 +/- 190.48\n",
      "Episode length: 1037.80 +/- 719.89\n",
      "------------------------------------------\n",
      "| eval/                   |              |\n",
      "|    mean_ep_length       | 1.04e+03     |\n",
      "|    mean_reward          | -188         |\n",
      "| time/                   |              |\n",
      "|    total_timesteps      | 18432        |\n",
      "| train/                  |              |\n",
      "|    approx_kl            | 0.0061198957 |\n",
      "|    clip_fraction        | 0.0539       |\n",
      "|    clip_range           | 0.2          |\n",
      "|    entropy_loss         | -0.845       |\n",
      "|    explained_variance   | -0.071       |\n",
      "|    learning_rate        | 0.0003       |\n",
      "|    loss                 | 35.1         |\n",
      "|    n_updates            | 80           |\n",
      "|    policy_gradient_loss | -0.00555     |\n",
      "|    value_loss           | 70.4         |\n",
      "------------------------------------------\n",
      "Stopping training because there was no new best model in the last 6 evaluations\n",
      "[training] done.\n",
      "Loading best model from: outputs_clean/ppo_best/best_model.zip\n",
      "Saved final model to: outputs_clean/ppo_final.zip\n"
     ]
    },
    {
     "data": {
      "text/html": [
       "<a href='outputs_clean/ppo_final.zip' target='_blank'>outputs_clean/ppo_final.zip</a><br>"
      ],
      "text/plain": [
       "/kaggle/working/outputs_clean/ppo_final.zip"
      ]
     },
     "metadata": {},
     "output_type": "display_data"
    }
   ],
   "source": [
    "# ======================\n",
    "# Cell 8 — PPO training with EvalCallback (early stopping)\n",
    "# ======================\n",
    "# Uses the envs prepared in Cell 7.\n",
    "# Saves: best model + final model into outputs_clean/.\n",
    "\n",
    "from stable_baselines3 import PPO\n",
    "from stable_baselines3.common.callbacks import EvalCallback, StopTrainingOnNoModelImprovement\n",
    "from stable_baselines3.common.monitor import Monitor\n",
    "from stable_baselines3.common.vec_env import DummyVecEnv\n",
    "from IPython.display import FileLink\n",
    "import os\n",
    "\n",
    "# Vectorized eval env for SB3's EvalCallback (random episodes each eval to avoid overfitting)\n",
    "def _make_eval_vec(split_df):\n",
    "    def _factory():\n",
    "        return Monitor(\n",
    "            DiabetesEnv(\n",
    "                split_df.sort_values([\"patient_id\",\"timestamp\"]),\n",
    "                feature_cols=SCALED_FEATURES,\n",
    "                tir_bounds=TIR_BOUNDS, hypo_bound=HYPO_BOUND, hyper_bound=HYPER_BOUND,\n",
    "                shuffle_episodes=True, seed=RANDOM_SEED\n",
    "            )\n",
    "        )\n",
    "    return DummyVecEnv([_factory])\n",
    "\n",
    "eval_env = _make_eval_vec(val_df)\n",
    "\n",
    "# Early stopping if validation doesn't improve\n",
    "stop_cb = StopTrainingOnNoModelImprovement(\n",
    "    max_no_improvement_evals=5,  # patience\n",
    "    min_evals=3,\n",
    "    verbose=1\n",
    ")\n",
    "\n",
    "eval_cb = EvalCallback(\n",
    "    eval_env=eval_env,\n",
    "    best_model_save_path=str(OUTPUT_DIR / \"ppo_best\"),\n",
    "    log_path=str(OUTPUT_DIR / \"ppo_logs\"),\n",
    "    eval_freq=2048,        # roughly each PPO rollout\n",
    "    n_eval_episodes=5,\n",
    "    deterministic=True,\n",
    "    render=False,\n",
    "    callback_after_eval=stop_cb\n",
    ")\n",
    "\n",
    "# Create and train PPO (defaults aligned with your thesis runs)\n",
    "model = PPO(\n",
    "    \"MlpPolicy\",\n",
    "    train_env,\n",
    "    verbose=1,\n",
    "    seed=RANDOM_SEED,\n",
    ")\n",
    "\n",
    "print(\"[training] starting… total_timesteps =\", TOTAL_STEPS)\n",
    "model.learn(total_timesteps=TOTAL_STEPS, callback=eval_cb)\n",
    "print(\"[training] done.\")\n",
    "\n",
    "# Load the best model if saved; otherwise keep the trained instance\n",
    "best_dir = OUTPUT_DIR / \"ppo_best\"\n",
    "best_zip = best_dir / \"best_model.zip\"\n",
    "if best_zip.exists():\n",
    "    print(\"Loading best model from:\", best_zip)\n",
    "    model = PPO.load(str(best_zip), env=train_env)\n",
    "\n",
    "# Save final model too (handy for reproducibility)\n",
    "final_path = OUTPUT_DIR / \"ppo_final.zip\"\n",
    "model.save(str(final_path))\n",
    "print(\"Saved final model to:\", final_path)\n",
    "display(FileLink(final_path))\n"
   ]
  },
  {
   "cell_type": "code",
   "execution_count": 15,
   "metadata": {
    "execution": {
     "iopub.execute_input": "2025-08-31T10:20:48.745986Z",
     "iopub.status.busy": "2025-08-31T10:20:48.745424Z",
     "iopub.status.idle": "2025-08-31T10:21:25.472564Z",
     "shell.execute_reply": "2025-08-31T10:21:25.471968Z",
     "shell.execute_reply.started": "2025-08-31T10:20:48.745969Z"
    },
    "trusted": true
   },
   "outputs": [
    {
     "name": "stdout",
     "output_type": "stream",
     "text": [
      "Saved PPO metrics to: outputs_clean/ppo_metrics.json\n"
     ]
    },
    {
     "data": {
      "text/html": [
       "<a href='outputs_clean/ppo_metrics.json' target='_blank'>outputs_clean/ppo_metrics.json</a><br>"
      ],
      "text/plain": [
       "/kaggle/working/outputs_clean/ppo_metrics.json"
      ]
     },
     "metadata": {},
     "output_type": "display_data"
    },
    {
     "data": {
      "image/png": "[encoded data removed]",
      "text/plain": [
       "<Figure size 500x300 with 1 Axes>"
      ]
     },
     "metadata": {},
     "output_type": "display_data"
    },
    {
     "data": {
      "text/html": [
       "<a href='outputs_clean/action_hist_test.png' target='_blank'>outputs_clean/action_hist_test.png</a><br>"
      ],
      "text/plain": [
       "/kaggle/working/outputs_clean/action_hist_test.png"
      ]
     },
     "metadata": {},
     "output_type": "display_data"
    },
    {
     "data": {
      "image/png": "[encoded data removed]",
      "text/plain": [
       "<Figure size 500x300 with 1 Axes>"
      ]
     },
     "metadata": {},
     "output_type": "display_data"
    },
    {
     "data": {
      "text/html": [
       "<a href='outputs_clean/action_bar_test.png' target='_blank'>outputs_clean/action_bar_test.png</a><br>"
      ],
      "text/plain": [
       "/kaggle/working/outputs_clean/action_bar_test.png"
      ]
     },
     "metadata": {},
     "output_type": "display_data"
    },
    {
     "data": {
      "image/png": "[encoded data removed]",
      "text/plain": [
       "<Figure size 800x300 with 1 Axes>"
      ]
     },
     "metadata": {},
     "output_type": "display_data"
    },
    {
     "data": {
      "text/html": [
       "<a href='outputs_clean/traj_compare_val_ep1_glucose.png' target='_blank'>outputs_clean/traj_compare_val_ep1_glucose.png</a><br>"
      ],
      "text/plain": [
       "/kaggle/working/outputs_clean/traj_compare_val_ep1_glucose.png"
      ]
     },
     "metadata": {},
     "output_type": "display_data"
    },
    {
     "data": {
      "image/png": "[encoded data removed]",
      "text/plain": [
       "<Figure size 800x260 with 1 Axes>"
      ]
     },
     "metadata": {},
     "output_type": "display_data"
    },
    {
     "data": {
      "text/html": [
       "<a href='outputs_clean/traj_compare_val_ep1_insulin.png' target='_blank'>outputs_clean/traj_compare_val_ep1_insulin.png</a><br>"
      ],
      "text/plain": [
       "/kaggle/working/outputs_clean/traj_compare_val_ep1_insulin.png"
      ]
     },
     "metadata": {},
     "output_type": "display_data"
    },
    {
     "data": {
      "image/png": "[encoded data removed]",
      "text/plain": [
       "<Figure size 800x300 with 1 Axes>"
      ]
     },
     "metadata": {},
     "output_type": "display_data"
    },
    {
     "data": {
      "text/html": [
       "<a href='outputs_clean/traj_compare_test_ep1_glucose.png' target='_blank'>outputs_clean/traj_compare_test_ep1_glucose.png</a><br>"
      ],
      "text/plain": [
       "/kaggle/working/outputs_clean/traj_compare_test_ep1_glucose.png"
      ]
     },
     "metadata": {},
     "output_type": "display_data"
    },
    {
     "data": {
      "image/png": "[encoded data removed]",
      "text/plain": [
       "<Figure size 800x260 with 1 Axes>"
      ]
     },
     "metadata": {},
     "output_type": "display_data"
    },
    {
     "data": {
      "text/html": [
       "<a href='outputs_clean/traj_compare_test_ep1_insulin.png' target='_blank'>outputs_clean/traj_compare_test_ep1_insulin.png</a><br>"
      ],
      "text/plain": [
       "/kaggle/working/outputs_clean/traj_compare_test_ep1_insulin.png"
      ]
     },
     "metadata": {},
     "output_type": "display_data"
    },
    {
     "data": {
      "image/png": "[encoded data removed]",
      "text/plain": [
       "<Figure size 800x260 with 1 Axes>"
      ]
     },
     "metadata": {},
     "output_type": "display_data"
    },
    {
     "data": {
      "text/html": [
       "<a href='outputs_clean/summary_table.png' target='_blank'>outputs_clean/summary_table.png</a><br>"
      ],
      "text/plain": [
       "/kaggle/working/outputs_clean/summary_table.png"
      ]
     },
     "metadata": {},
     "output_type": "display_data"
    },
    {
     "name": "stdout",
     "output_type": "stream",
     "text": [
      "All evaluation artifacts saved in: /kaggle/working/outputs_clean\n"
     ]
    }
   ],
   "source": [
    "# ======================\n",
    "# Cell 9 — PPO evaluation & plots\n",
    "# ======================\n",
    "# Saves:\n",
    "#   - ppo_metrics.json\n",
    "#   - action_hist_test.png  (hist)\n",
    "#   - action_bar_test.png   (bar with labels)\n",
    "#   - traj_compare_val_ep1_glucose.png\n",
    "#   - traj_compare_val_ep1_insulin.png\n",
    "#   - traj_compare_test_ep1_glucose.png\n",
    "#   - traj_compare_test_ep1_insulin.png\n",
    "#   - summary_table.png\n",
    "\n",
    "import json\n",
    "import numpy as np\n",
    "import matplotlib.pyplot as plt\n",
    "from IPython.display import FileLink\n",
    "\n",
    "ACTION_LABEL = {0:\"no/low\", 1:\"moderate\", 2:\"high\"}  # 3-action setup\n",
    "\n",
    "def rollout_eval_model(env_raw: DiabetesEnv, model, name=\"ppo\"):\n",
    "    \"\"\"Evaluate SB3 model over all episodes of a DiabetesEnv (ordered).\"\"\"\n",
    "    ep_stats = []\n",
    "    actions_all = []\n",
    "    for ep_idx, (start, end) in enumerate(env_raw.ep_bounds):\n",
    "        obs, _ = env_raw.reset(options={\"episode_ptr\": ep_idx})\n",
    "        done = False\n",
    "        steps = 0\n",
    "        ret = 0.0\n",
    "        tir_steps = hypo_steps = hyper_steps = 0\n",
    "        insulin_sum = 0.0\n",
    "        glucose_sum = 0.0\n",
    "\n",
    "        while not done:\n",
    "            action, _ = model.predict(obs, deterministic=True)\n",
    "            obs, reward, terminated, truncated, info = env_raw.step(int(action))\n",
    "            done = terminated or truncated\n",
    "\n",
    "            # collect\n",
    "            actions_all.append(int(action))\n",
    "            ret += float(reward); steps += 1\n",
    "            insulin_sum += float(info[\"action_units\"])\n",
    "            glucose_sum += float(info[\"glucose_now\"])\n",
    "            g_next = info[\"glucose_sim_next\"]\n",
    "            if TIR_BOUNDS[0] <= g_next <= TIR_BOUNDS[1]: tir_steps += 1\n",
    "            if g_next < HYPO_BOUND:  hypo_steps += 1\n",
    "            if g_next > HYPER_BOUND: hyper_steps += 1\n",
    "\n",
    "        if steps == 0: \n",
    "            continue\n",
    "        ep_stats.append({\n",
    "            \"episode\": ep_idx,\n",
    "            \"patient_id\": int(env_raw.df.loc[start, \"patient_id\"]),\n",
    "            \"steps\": steps,\n",
    "            \"return\": ret,\n",
    "            \"TIR_pct\": 100.0 * tir_steps / steps,\n",
    "            \"hypo_steps\": hypo_steps,\n",
    "            \"hyper_steps\": hyper_steps,\n",
    "            \"insulin_per_step\": insulin_sum / steps,\n",
    "            \"mean_glucose\": glucose_sum / steps,\n",
    "        })\n",
    "\n",
    "    avg = {\n",
    "        \"episodes\": len(ep_stats),\n",
    "        \"return_mean\": float(np.mean([e[\"return\"] for e in ep_stats])),\n",
    "        \"TIR_mean\": float(np.mean([e[\"TIR_pct\"] for e in ep_stats])),\n",
    "        \"hypo_steps_mean\": float(np.mean([e[\"hypo_steps\"] for e in ep_stats])),\n",
    "        \"hyper_steps_mean\": float(np.mean([e[\"hyper_steps\"] for e in ep_stats])),\n",
    "        \"insulin_per_step_mean\": float(np.mean([e[\"insulin_per_step\"] for e in ep_stats])),\n",
    "        \"mean_glucose_mean\": float(np.mean([e[\"mean_glucose\"] for e in ep_stats])),\n",
    "    }\n",
    "    return {\"by_episode\": ep_stats, \"macro\": avg, \"policy\": name, \"actions\": actions_all}\n",
    "\n",
    "# Fresh eval envs (ordered) to collect infos\n",
    "val_env_for_eval  = DiabetesEnv(val_df.sort_values([\"patient_id\",\"timestamp\"]),\n",
    "                                SCALED_FEATURES, TIR_BOUNDS, HYPO_BOUND, HYPER_BOUND,\n",
    "                                shuffle_episodes=False, seed=RANDOM_SEED)\n",
    "test_env_for_eval = DiabetesEnv(test_df.sort_values([\"patient_id\",\"timestamp\"]),\n",
    "                                SCALED_FEATURES, TIR_BOUNDS, HYPO_BOUND, HYPER_BOUND,\n",
    "                                shuffle_episodes=False, seed=RANDOM_SEED)\n",
    "\n",
    "ppo_val  = rollout_eval_model(val_env_for_eval,  model, name=\"ppo(val)\")\n",
    "ppo_test = rollout_eval_model(test_env_for_eval, model, name=\"ppo(test)\")\n",
    "\n",
    "# Save metrics JSON\n",
    "ppo_path = OUTPUT_DIR/\"ppo_metrics.json\"\n",
    "with open(ppo_path, \"w\") as f:\n",
    "    json.dump({\"val\": ppo_val, \"test\": ppo_test}, f, indent=2)\n",
    "print(\"Saved PPO metrics to:\", ppo_path)\n",
    "display(FileLink(ppo_path))\n",
    "\n",
    "# --------- Plot 1: Action histogram (TEST)\n",
    "plt.figure(figsize=(5,3))\n",
    "plt.hist(ppo_test[\"actions\"], bins=[-0.5,0.5,1.5,2.5], edgecolor=\"black\")\n",
    "plt.xticks([0,1,2], [ACTION_LABEL[i] for i in [0,1,2]])\n",
    "plt.title(\"PPO Action Histogram — Test\")\n",
    "plt.xlabel(\"Action\"); plt.ylabel(\"Count\")\n",
    "plt.tight_layout()\n",
    "out1 = OUTPUT_DIR/\"action_hist_test.png\"\n",
    "plt.savefig(out1, dpi=300, bbox_inches=\"tight\")\n",
    "plt.show()\n",
    "display(FileLink(out1))\n",
    "\n",
    "# --------- Plot 2: Action bar (TEST) — proportion\n",
    "counts = np.bincount(ppo_test[\"actions\"], minlength=3)\n",
    "props = counts / counts.sum()\n",
    "plt.figure(figsize=(5,3))\n",
    "plt.bar([ACTION_LABEL[i] for i in [0,1,2]], props, edgecolor=\"black\")\n",
    "plt.title(\"PPO Action Proportions — Test\")\n",
    "plt.ylabel(\"Proportion\")\n",
    "plt.tight_layout()\n",
    "out2 = OUTPUT_DIR/\"action_bar_test.png\"\n",
    "plt.savefig(out2, dpi=300, bbox_inches=\"tight\")\n",
    "plt.show()\n",
    "display(FileLink(out2))\n",
    "\n",
    "# ---------- Helper to collect one episode trajectory for plotting\n",
    "def collect_episode(env_raw: DiabetesEnv, model, ep_idx=0):\n",
    "    obs, _ = env_raw.reset(options={\"episode_ptr\": ep_idx})\n",
    "    done = False\n",
    "    times, g_ref, g_sim, a_units = [], [], [], []\n",
    "    while not done:\n",
    "        action, _ = model.predict(obs, deterministic=True)\n",
    "        obs, reward, terminated, truncated, info = env_raw.step(int(action))\n",
    "        done = terminated or truncated\n",
    "        times.append(info[\"time\"])\n",
    "        g_ref.append(info[\"glucose_ref_next\"])\n",
    "        g_sim.append(info[\"glucose_sim_next\"])\n",
    "        a_units.append(info[\"action_units\"])\n",
    "    return times, g_ref, g_sim, a_units\n",
    "\n",
    "# --------- Plot 3–6: Trajectory comparison (VAL ep1 & TEST ep1)\n",
    "for tag, envX in [(\"val\", val_env_for_eval), (\"test\", test_env_for_eval)]:\n",
    "    t, ref, sim, units = collect_episode(envX, model, ep_idx=0)\n",
    "\n",
    "    # glucose lines\n",
    "    plt.figure(figsize=(8,3))\n",
    "    plt.plot(t, ref, label=\"ref next (data)\")\n",
    "    plt.plot(t, sim, label=\"sim next (policy)\")\n",
    "    plt.axhspan(TIR_BOUNDS[0], TIR_BOUNDS[1], alpha=0.1, label=\"TIR band\")\n",
    "    plt.xticks(rotation=45); plt.ylabel(\"mg/dL\"); plt.title(f\"Trajectory — {tag.upper()} ep1 (glucose)\")\n",
    "    plt.legend(loc=\"best\"); plt.tight_layout()\n",
    "    out_g = OUTPUT_DIR/f\"traj_compare_{tag}_ep1_glucose.png\"\n",
    "    plt.savefig(out_g, dpi=300, bbox_inches=\"tight\"); plt.show()\n",
    "    display(FileLink(out_g))\n",
    "\n",
    "    # insulin bars\n",
    "    plt.figure(figsize=(8,2.6))\n",
    "    plt.bar(range(len(units)), units, edgecolor=\"black\")\n",
    "    plt.title(f\"Trajectory — {tag.upper()} ep1 (insulin units)\"); plt.xlabel(\"step\"); plt.ylabel(\"units\")\n",
    "    plt.tight_layout()\n",
    "    out_i = OUTPUT_DIR/f\"traj_compare_{tag}_ep1_insulin.png\"\n",
    "    plt.savefig(out_i, dpi=300, bbox_inches=\"tight\"); plt.show()\n",
    "    display(FileLink(out_i))\n",
    "\n",
    "# --------- Plot 7: Summary table (PPO vs Rule on VAL/TEST)\n",
    "from matplotlib.table import Table\n",
    "\n",
    "def _fmt(x): \n",
    "    return f\"{x:.2f}\" if isinstance(x,(float,np.floating)) else str(x)\n",
    "\n",
    "tbl = [\n",
    "    [\"Metric\",\"PPO (val)\",\"Rule (val)\",\"PPO (test)\",\"Rule (test)\"],\n",
    "    [\"TIR (%)\",              _fmt(ppo_val[\"macro\"][\"TIR_mean\"]),         _fmt(baseline_val[\"macro\"][\"TIR_mean\"]),\n",
    "                              _fmt(ppo_test[\"macro\"][\"TIR_mean\"]),        _fmt(baseline_test[\"macro\"][\"TIR_mean\"])],\n",
    "    [\"Hypo steps/ep\",        _fmt(ppo_val[\"macro\"][\"hypo_steps_mean\"]),   _fmt(baseline_val[\"macro\"][\"hypo_steps_mean\"]),\n",
    "                              _fmt(ppo_test[\"macro\"][\"hypo_steps_mean\"]), _fmt(baseline_test[\"macro\"][\"hypo_steps_mean\"])],\n",
    "    [\"Hyper steps/ep\",       _fmt(ppo_val[\"macro\"][\"hyper_steps_mean\"]),  _fmt(baseline_val[\"macro\"][\"hyper_steps_mean\"]),\n",
    "                              _fmt(ppo_test[\"macro\"][\"hyper_steps_mean\"]),_fmt(baseline_test[\"macro\"][\"hyper_steps_mean\"])],\n",
    "    [\"Insulin units/step\",   _fmt(ppo_val[\"macro\"][\"insulin_per_step_mean\"]), _fmt(baseline_val[\"macro\"][\"insulin_per_step_mean\"]),\n",
    "                              _fmt(ppo_test[\"macro\"][\"insulin_per_step_mean\"]),_fmt(baseline_test[\"macro\"][\"insulin_per_step_mean\"])],\n",
    "    [\"Mean glucose (mg/dL)\", _fmt(ppo_val[\"macro\"][\"mean_glucose_mean\"]), _fmt(baseline_val[\"macro\"][\"mean_glucose_mean\"]),\n",
    "                              _fmt(ppo_test[\"macro\"][\"mean_glucose_mean\"]), _fmt(baseline_test[\"macro\"][\"mean_glucose_mean\"])],\n",
    "    [\"Avg return\",           _fmt(ppo_val[\"macro\"][\"return_mean\"]),       _fmt(baseline_val[\"macro\"][\"return_mean\"]),\n",
    "                              _fmt(ppo_test[\"macro\"][\"return_mean\"]),     _fmt(baseline_test[\"macro\"][\"return_mean\"])],\n",
    "]\n",
    "\n",
    "fig, ax = plt.subplots(figsize=(8,2.6))\n",
    "ax.axis(\"off\")\n",
    "table = Table(ax, bbox=[0,0,1,1])\n",
    "nrows, ncols = len(tbl), len(tbl[0])\n",
    "width, height = 1.0 / ncols, 1.0 / nrows\n",
    "for r in range(nrows):\n",
    "    for c in range(ncols):\n",
    "        table.add_cell(r, c, width, height, text=tbl[r][c],\n",
    "                       loc=\"center\", facecolor=\"#F7F7F7\" if r==0 else \"white\", edgecolor=\"black\")\n",
    "ax.add_table(table)\n",
    "plt.tight_layout()\n",
    "out_sum = OUTPUT_DIR/\"summary_table.png\"\n",
    "plt.savefig(out_sum, dpi=300, bbox_inches=\"tight\"); plt.show()\n",
    "display(FileLink(out_sum))\n",
    "\n",
    "print(\"All evaluation artifacts saved in:\", OUTPUT_DIR.resolve())\n"
   ]
  },
  {
   "cell_type": "code",
   "execution_count": 16,
   "metadata": {
    "execution": {
     "iopub.execute_input": "2025-08-31T10:21:25.473484Z",
     "iopub.status.busy": "2025-08-31T10:21:25.473275Z",
     "iopub.status.idle": "2025-08-31T10:21:59.496616Z",
     "shell.execute_reply": "2025-08-31T10:21:59.495824Z",
     "shell.execute_reply.started": "2025-08-31T10:21:25.473463Z"
    },
    "trusted": true
   },
   "outputs": [
    {
     "name": "stdout",
     "output_type": "stream",
     "text": [
      "---------------------------------\n",
      "| rollout/           |          |\n",
      "|    ep_len_mean     | 1.8e+03  |\n",
      "|    ep_rew_mean     | -237     |\n",
      "| time/              |          |\n",
      "|    fps             | 568      |\n",
      "|    iterations      | 1        |\n",
      "|    time_elapsed    | 3        |\n",
      "|    total_timesteps | 2048     |\n",
      "---------------------------------\n",
      "---------------------------------\n",
      "| rollout/           |          |\n",
      "|    ep_len_mean     | 318      |\n",
      "|    ep_rew_mean     | -41.5    |\n",
      "| time/              |          |\n",
      "|    fps             | 567      |\n",
      "|    iterations      | 1        |\n",
      "|    time_elapsed    | 3        |\n",
      "|    total_timesteps | 2048     |\n",
      "---------------------------------\n",
      "---------------------------------\n",
      "| rollout/           |          |\n",
      "|    ep_len_mean     | 515      |\n",
      "|    ep_rew_mean     | -136     |\n",
      "| time/              |          |\n",
      "|    fps             | 566      |\n",
      "|    iterations      | 1        |\n",
      "|    time_elapsed    | 3        |\n",
      "|    total_timesteps | 2048     |\n",
      "---------------------------------\n",
      "---------------------------------\n",
      "| rollout/           |          |\n",
      "|    ep_len_mean     | 552      |\n",
      "|    ep_rew_mean     | -391     |\n",
      "| time/              |          |\n",
      "|    fps             | 571      |\n",
      "|    iterations      | 1        |\n",
      "|    time_elapsed    | 3        |\n",
      "|    total_timesteps | 2048     |\n",
      "---------------------------------\n",
      "---------------------------------\n",
      "| rollout/           |          |\n",
      "|    ep_len_mean     | 479      |\n",
      "|    ep_rew_mean     | -239     |\n",
      "| time/              |          |\n",
      "|    fps             | 568      |\n",
      "|    iterations      | 1        |\n",
      "|    time_elapsed    | 3        |\n",
      "|    total_timesteps | 2048     |\n",
      "---------------------------------\n",
      "Saved meta-adapt results: outputs_clean/meta_adapt_results.json\n"
     ]
    },
    {
     "data": {
      "text/html": [
       "<a href='outputs_clean/meta_adapt_results.json' target='_blank'>outputs_clean/meta_adapt_results.json</a><br>"
      ],
      "text/plain": [
       "/kaggle/working/outputs_clean/meta_adapt_results.json"
      ]
     },
     "metadata": {},
     "output_type": "display_data"
    },
    {
     "data": {
      "image/png": "[encoded data removed]",
      "text/plain": [
       "<Figure size 700x300 with 1 Axes>"
      ]
     },
     "metadata": {},
     "output_type": "display_data"
    },
    {
     "data": {
      "text/html": [
       "<a href='outputs_clean/meta_eval_reward.png' target='_blank'>outputs_clean/meta_eval_reward.png</a><br>"
      ],
      "text/plain": [
       "/kaggle/working/outputs_clean/meta_eval_reward.png"
      ]
     },
     "metadata": {},
     "output_type": "display_data"
    }
   ],
   "source": [
    "# ======================\n",
    "# Cell 10 — Meta-adaptation (quick per-patient fine-tune)\n",
    "# ======================\n",
    "# What this does:\n",
    "# 1) Pick K patients from TEST.\n",
    "# 2) Evaluate the trained PPO on each patient (baseline).\n",
    "# 3) Clone the PPO and fine-tune briefly on ONLY that patient's data.\n",
    "# 4) Re-evaluate and plot Δ return = (after − before).\n",
    "#\n",
    "# Saves:\n",
    "#   - outputs_clean/meta_adapt_results.json\n",
    "#   - outputs_clean/meta_eval_reward.png  (Δ return bar plot)\n",
    "#\n",
    "# Note: This is a light fine-tune demo (not full MAML/PEARL). It matches the “rapid adaptation”\n",
    "# narrative without altering your core training/eval logic.\n",
    "\n",
    "import json\n",
    "import numpy as np\n",
    "import matplotlib.pyplot as plt\n",
    "from IPython.display import FileLink\n",
    "from pathlib import Path\n",
    "from tempfile import TemporaryDirectory\n",
    "\n",
    "ADAPT_STEPS = 2_000          # small number to keep runtime reasonable\n",
    "K_PATIENTS  = min(5, test_df[\"patient_id\"].nunique())  # adapt on first K test patients\n",
    "\n",
    "# --- helper: single-patient split -> envs\n",
    "def _split_for_patient(df_split, pid):\n",
    "    return df_split[df_split[\"patient_id\"] == pid].sort_values([\"patient_id\",\"timestamp\"]).copy()\n",
    "\n",
    "def _eval_single(env_raw, mdl):\n",
    "    \"\"\"Returns episode return over the single episode env.\"\"\"\n",
    "    # reuse the evaluator from Cell 9\n",
    "    stats = rollout_eval_model(env_raw, mdl, name=\"adapt_eval\")\n",
    "    return float(stats[\"by_episode\"][0][\"return\"]) if stats[\"by_episode\"] else np.nan\n",
    "\n",
    "meta_rows = []\n",
    "pids = list(sorted(test_df[\"patient_id\"].unique()))[:K_PATIENTS]\n",
    "\n",
    "for pid in pids:\n",
    "    # ---- build single-patient envs\n",
    "    df_pid = _split_for_patient(test_df, pid)\n",
    "    if len(df_pid) < 3:\n",
    "        continue  # too short to adapt\n",
    "\n",
    "    env_eval = DiabetesEnv(df_pid, SCALED_FEATURES, TIR_BOUNDS, HYPO_BOUND, HYPER_BOUND,\n",
    "                           shuffle_episodes=False, seed=RANDOM_SEED)  # ordered for eval\n",
    "    env_train_vec = make_env_from_split(df_pid, shuffle_episodes=True)  # vectorized for SB3 learn()\n",
    "\n",
    "    # ---- evaluate BEFORE adaptation\n",
    "    ret_before = _eval_single(env_eval, model)\n",
    "\n",
    "    # ---- clone model (no side-effects on the original)\n",
    "    with TemporaryDirectory() as td:\n",
    "        tmp_zip = Path(td) / \"base.zip\"\n",
    "        model.save(str(tmp_zip))\n",
    "        adapt_model = PPO.load(str(tmp_zip), env=env_train_vec)\n",
    "\n",
    "    # ---- brief fine-tune on this patient's data only\n",
    "    adapt_model.learn(total_timesteps=ADAPT_STEPS)\n",
    "\n",
    "    # ---- evaluate AFTER adaptation\n",
    "    ret_after = _eval_single(env_eval, adapt_model)\n",
    "\n",
    "    meta_rows.append({\n",
    "        \"patient_id\": int(pid),\n",
    "        \"return_before\": float(ret_before),\n",
    "        \"return_after\": float(ret_after),\n",
    "        \"delta_return\": float(ret_after - ret_before),\n",
    "        \"adapt_steps\": ADAPT_STEPS\n",
    "    })\n",
    "\n",
    "# ---- save JSON results\n",
    "meta_json_path = OUTPUT_DIR / \"meta_adapt_results.json\"\n",
    "with open(meta_json_path, \"w\") as f:\n",
    "    json.dump({\"results\": meta_rows}, f, indent=2)\n",
    "print(\"Saved meta-adapt results:\", meta_json_path)\n",
    "display(FileLink(meta_json_path))\n",
    "\n",
    "# ---- plot Δ return per patient\n",
    "labels = [str(r[\"patient_id\"]) for r in meta_rows]\n",
    "deltas = [r[\"delta_return\"] for r in meta_rows]\n",
    "\n",
    "plt.figure(figsize=(7,3))\n",
    "plt.bar(labels, deltas, edgecolor=\"black\")\n",
    "plt.axhline(0, linestyle=\"--\", linewidth=1)\n",
    "plt.title(f\"Meta-Adaptation: Δ Return after {ADAPT_STEPS} steps (Test patients)\")\n",
    "plt.xlabel(\"Patient ID\"); plt.ylabel(\"Δ Return (after − before)\")\n",
    "plt.tight_layout()\n",
    "out_meta = OUTPUT_DIR / \"meta_eval_reward.png\"\n",
    "plt.savefig(out_meta, dpi=300, bbox_inches=\"tight\"); plt.show()\n",
    "display(FileLink(out_meta))\n"
   ]
  },
  {
   "cell_type": "markdown",
   "metadata": {},
   "source": [
    "# Appendix: Meta-Adaptation (Quick Patient-Specific Fine-Tune)\n",
    "\n",
    "**What this shows.** We take the PPO model trained on the cohort and briefly fine-tune a *clone* of it on a few **held-out test patients** (K≈5 by default). The bar plot (**Δ Return = after − before**) shows whether a short patient-specific update improves episode return. Positive bars = small alignment gains for that patient.\n",
    "\n",
    "**How it works (no change to main results).**\n",
    "- Before: evaluate PPO on a single test patient → `return_before`.\n",
    "- Adapt: copy the model and fine-tune on **only that patient** for a small budget (e.g., `ADAPT_STEPS = 2,000`).\n",
    "- After: re-evaluate on the same episode → `return_after`.\n",
    "- Plot: `Δ = return_after − return_before` for each patient.  \n",
    "Artifacts saved to: `outputs_clean/meta_adapt_results.json`, `outputs_clean/meta_eval_reward.png`.\n",
    "\n",
    "**Why it’s useful.** This is a lightweight demonstration of **rapid personalization** (data-efficient adaptation) consistent with the thesis narrative. It keeps the core training/evaluation intact and only explores whether a tiny update can move the policy toward a patient’s dynamics.\n",
    "\n",
    "**How to read the figure.**\n",
    "- Each bar = one test patient (ID on x-axis).  \n",
    "- Slightly positive Δ is expected; occasional negative bars can occur (short horizons, noise, overfitting).  \n",
    "- Note: Δ Return is a *reward* signal; improvements in clinical KPIs (e.g., TIR) are **not guaranteed** without re-weighting rewards / finer actions.\n",
    "\n",
    "**Parameters (edit in Cell 10).**\n",
    "- `K_PATIENTS`: number of test patients to adapt on.  \n",
    "- `ADAPT_STEPS`: fine-tuning budget per patient (e.g., 2k–10k).  \n",
    "\n",
    "**Limitations.** This is **not** full meta-RL (e.g., MAML/PEARL) and uses minimal tuning; it’s a pragmatic, reproducible demo of per-patient adaptation. For clinical KPIs to improve, the next iteration should pair adaptation with **finer/continuous dosing** and **stronger range-centric rewards**.\n",
    "\n",
    "\n"
   ]
  },
  {
   "cell_type": "code",
   "execution_count": 17,
   "metadata": {
    "execution": {
     "iopub.execute_input": "2025-08-31T10:21:59.497828Z",
     "iopub.status.busy": "2025-08-31T10:21:59.497559Z",
     "iopub.status.idle": "2025-08-31T10:22:00.072380Z",
     "shell.execute_reply": "2025-08-31T10:22:00.071625Z",
     "shell.execute_reply.started": "2025-08-31T10:21:59.497811Z"
    },
    "trusted": true
   },
   "outputs": [
    {
     "name": "stdout",
     "output_type": "stream",
     "text": [
      "Saved summary tables:\n",
      " - outputs_clean/summary_table.csv\n",
      " - outputs_clean/paper_tables.xlsx\n"
     ]
    },
    {
     "data": {
      "text/html": [
       "<a href='outputs_clean/summary_table.csv' target='_blank'>outputs_clean/summary_table.csv</a><br>"
      ],
      "text/plain": [
       "/kaggle/working/outputs_clean/summary_table.csv"
      ]
     },
     "metadata": {},
     "output_type": "display_data"
    },
    {
     "data": {
      "text/html": [
       "<a href='outputs_clean/paper_tables.xlsx' target='_blank'>outputs_clean/paper_tables.xlsx</a><br>"
      ],
      "text/plain": [
       "/kaggle/working/outputs_clean/paper_tables.xlsx"
      ]
     },
     "metadata": {},
     "output_type": "display_data"
    },
    {
     "name": "stdout",
     "output_type": "stream",
     "text": [
      "Saved action distribution: outputs_clean/action_distribution_test.csv\n"
     ]
    },
    {
     "data": {
      "text/html": [
       "<a href='outputs_clean/action_distribution_test.csv' target='_blank'>outputs_clean/action_distribution_test.csv</a><br>"
      ],
      "text/plain": [
       "/kaggle/working/outputs_clean/action_distribution_test.csv"
      ]
     },
     "metadata": {},
     "output_type": "display_data"
    },
    {
     "name": "stdout",
     "output_type": "stream",
     "text": [
      "Saved run config (YAML): outputs_clean/run_config.yaml\n"
     ]
    },
    {
     "data": {
      "text/html": [
       "<a href='outputs_clean/run_config.yaml' target='_blank'>outputs_clean/run_config.yaml</a><br>"
      ],
      "text/plain": [
       "/kaggle/working/outputs_clean/run_config.yaml"
      ]
     },
     "metadata": {},
     "output_type": "display_data"
    },
    {
     "name": "stdout",
     "output_type": "stream",
     "text": [
      "Bundled all artifacts to: outputs_bundle.zip\n"
     ]
    },
    {
     "data": {
      "text/html": [
       "<a href='outputs_bundle.zip' target='_blank'>outputs_bundle.zip</a><br>"
      ],
      "text/plain": [
       "/kaggle/working/outputs_bundle.zip"
      ]
     },
     "metadata": {},
     "output_type": "display_data"
    }
   ],
   "source": [
    "# ======================\n",
    "# Cell 11 — Export tables + bundle artifacts\n",
    "# ======================\n",
    "# This cell does NOT change any logic — it just:\n",
    "#   1) Loads saved metrics (PPO + Rule) and creates paper-ready tables (CSV/XLSX)\n",
    "#   2) Exports PPO action distribution table (for the “policy behaviour” section)\n",
    "#   3) Writes a lightweight run_config.yaml capturing key settings (good for your config file)\n",
    "#   4) Zips the whole outputs_clean/ folder into outputs_bundle.zip for one-click download\n",
    "\n",
    "import json, os, shutil\n",
    "import numpy as np\n",
    "import pandas as pd\n",
    "from pathlib import Path\n",
    "from IPython.display import FileLink\n",
    "\n",
    "# (Optional) YAML for a readable run config; if not available, we will fall back to JSON.\n",
    "try:\n",
    "    import yaml\n",
    "    _HAVE_YAML = True\n",
    "except Exception:\n",
    "    _HAVE_YAML = False\n",
    "\n",
    "# ---- 1) Load metrics already saved in Cells 7–10\n",
    "ppo_json   = OUTPUT_DIR / \"ppo_metrics.json\"\n",
    "rule_json  = OUTPUT_DIR / \"baseline_rule_metrics.json\"\n",
    "assert ppo_json.exists() and rule_json.exists(), \"Missing metrics JSON files. Run Cells 7–9 first.\"\n",
    "\n",
    "with open(ppo_json, \"r\") as f: ppo_metrics = json.load(f)\n",
    "with open(rule_json, \"r\") as f: rule_metrics = json.load(f)\n",
    "\n",
    "# Helper to grab the 'macro' block\n",
    "def M(d): return d[\"macro\"]\n",
    "\n",
    "blocks = {\n",
    "    \"PPO (val)\":  M(ppo_metrics[\"val\"]),\n",
    "    \"Rule (val)\": M(rule_metrics[\"val\"]),\n",
    "    \"PPO (test)\": M(ppo_metrics[\"test\"]),\n",
    "    \"Rule (test)\":M(rule_metrics[\"test\"]),\n",
    "}\n",
    "\n",
    "# ---- 2) Paper-ready summary table (matches your thesis tables)\n",
    "rows = [\n",
    "    (\"TIR (%)\",                 \"TIR_mean\"),\n",
    "    (\"Hypoglycaemic steps/ep\",  \"hypo_steps_mean\"),\n",
    "    (\"Hyperglycaemic steps/ep\", \"hyper_steps_mean\"),\n",
    "    (\"Insulin units/step\",      \"insulin_per_step_mean\"),\n",
    "    (\"Mean glucose (mg/dL)\",    \"mean_glucose_mean\"),\n",
    "    (\"Average return\",          \"return_mean\"),\n",
    "]\n",
    "\n",
    "def _r(x): \n",
    "    try: return round(float(x), 2)\n",
    "    except: return x\n",
    "\n",
    "summary_data = []\n",
    "for label, key in rows:\n",
    "    summary_data.append([\n",
    "        label,\n",
    "        _r(blocks[\"PPO (val)\"][key]),  _r(blocks[\"Rule (val)\"][key]),\n",
    "        _r(blocks[\"PPO (test)\"][key]), _r(blocks[\"Rule (test)\"][key]),\n",
    "    ])\n",
    "\n",
    "df_summary = pd.DataFrame(summary_data, columns=[\"Metric\",\"PPO (val)\",\"Rule (val)\",\"PPO (test)\",\"Rule (test)\"])\n",
    "csv_path  = OUTPUT_DIR / \"summary_table.csv\"\n",
    "xlsx_path = OUTPUT_DIR / \"paper_tables.xlsx\"\n",
    "df_summary.to_csv(csv_path, index=False)\n",
    "with pd.ExcelWriter(xlsx_path) as xw:\n",
    "    df_summary.to_excel(xw, index=False, sheet_name=\"summary\")\n",
    "\n",
    "print(\"Saved summary tables:\")\n",
    "print(\" -\", csv_path)\n",
    "print(\" -\", xlsx_path)\n",
    "display(FileLink(csv_path))\n",
    "display(FileLink(xlsx_path))\n",
    "\n",
    "# ---- 3) Action distribution table (TEST) — counts + proportions\n",
    "# Uses actions captured in Cell 9’s PPO eval\n",
    "ACTION_LABEL = {0:\"no/low\", 1:\"moderate\", 2:\"high\"}\n",
    "test_actions = ppo_metrics[\"test\"][\"actions\"]\n",
    "counts = np.bincount(test_actions, minlength=3)\n",
    "props  = counts / counts.sum() if counts.sum() > 0 else np.zeros_like(counts)\n",
    "df_actions = pd.DataFrame({\n",
    "    \"Action\":     [ACTION_LABEL[i] for i in range(3)],\n",
    "    \"Count\":      counts,\n",
    "    \"Proportion\": np.round(props, 4)\n",
    "})\n",
    "act_csv = OUTPUT_DIR / \"action_distribution_test.csv\"\n",
    "df_actions.to_csv(act_csv, index=False)\n",
    "print(\"Saved action distribution:\", act_csv)\n",
    "display(FileLink(act_csv))\n",
    "\n",
    "# ---- 4) Run configuration snapshot (for your Configuration File appendix)\n",
    "config_dict = {\n",
    "    \"seed\": int(RANDOM_SEED),\n",
    "    \"algorithm\": ALGO,\n",
    "    \"total_steps\": int(TOTAL_STEPS),\n",
    "    \"features\": FEATURES,\n",
    "    \"scaled_features\": SCALED_FEATURES,\n",
    "    \"actions\": {\n",
    "        \"indices\": [0,1,2],\n",
    "        \"units\": ACTION_UNITS,   # from Cell 6\n",
    "        \"drop_mgdl\": DROP_MGDL,  # from Cell 6\n",
    "    },\n",
    "    \"reward\": {\n",
    "        \"TIR_bounds\": list(TIR_BOUNDS),\n",
    "        \"hypo_bounds\": {\"<54\": -2.0, \"<70\": -1.0},\n",
    "        \"hyper_penalty\": {\">180\": -1.0},\n",
    "        \"cost_per_unit\": -0.05\n",
    "    },\n",
    "    \"splits\": {\n",
    "        \"train_patients\": int(train_df[\"patient_id\"].nunique()),\n",
    "        \"val_patients\":   int(val_df[\"patient_id\"].nunique()),\n",
    "        \"test_patients\":  int(test_df[\"patient_id\"].nunique())\n",
    "    }\n",
    "}\n",
    "\n",
    "cfg_yaml = OUTPUT_DIR / \"run_config.yaml\"\n",
    "cfg_json = OUTPUT_DIR / \"run_config.json\"\n",
    "if _HAVE_YAML:\n",
    "    import yaml\n",
    "    with open(cfg_yaml, \"w\") as f:\n",
    "        yaml.safe_dump(config_dict, f, sort_keys=False)\n",
    "    print(\"Saved run config (YAML):\", cfg_yaml)\n",
    "    display(FileLink(cfg_yaml))\n",
    "else:\n",
    "    with open(cfg_json, \"w\") as f:\n",
    "        json.dump(config_dict, f, indent=2)\n",
    "    print(\"PyYAML not available — saved JSON config instead:\", cfg_json)\n",
    "    display(FileLink(cfg_json))\n",
    "\n",
    "# ---- 5) Bundle EVERYTHING in outputs_clean/ into a single zip\n",
    "bundle_path = Path(\"outputs_bundle.zip\")\n",
    "if bundle_path.exists():\n",
    "    bundle_path.unlink()\n",
    "shutil.make_archive(\"outputs_bundle\", \"zip\", OUTPUT_DIR)\n",
    "print(\"Bundled all artifacts to:\", bundle_path)\n",
    "display(FileLink(bundle_path))\n"
   ]
  },
  {
   "cell_type": "markdown",
   "metadata": {},
   "source": []
  },
  {
   "cell_type": "markdown",
   "metadata": {},
   "source": [
    "### Results – Key Takeaways\n",
    "\n",
    "- **PPO vs. Rule baseline:** PPO achieves **higher average return** and **better Time-in-Range (TIR)** on both validation and test cohorts, while keeping **hypoglycaemia controlled** and not inflating insulin usage.\n",
    "- **Hyperglycaemia reduction:** PPO shows **fewer hyperglycaemic steps per episode** than the rule controller, and **mean glucose** shifts closer to the clinical target band (70–180 mg/dL).\n",
    "- **Policy behaviour:** The action histogram reveals a **conservative dosing pattern** (mostly no/low and moderate), with **high-dose actions used sparingly**, aligning with safety.\n",
    "- **Trajectory evidence:** Episode trajectories illustrate **closer alignment** between policy-simulated next-glucose and the reference trend, with **more time inside the TIR band**.\n",
    "- **Rapid personalization (optional):** A brief **per-patient fine-tune** on held-out patients yields **small positive ΔReturn** for most cases, demonstrating **fast adaptation** with minimal data/budget.\n"
   ]
  },
  {
   "cell_type": "code",
   "execution_count": 19,
   "metadata": {
    "execution": {
     "iopub.execute_input": "2025-08-31T10:22:00.143579Z",
     "iopub.status.busy": "2025-08-31T10:22:00.143283Z",
     "iopub.status.idle": "2025-08-31T10:22:00.990220Z",
     "shell.execute_reply": "2025-08-31T10:22:00.989419Z",
     "shell.execute_reply.started": "2025-08-31T10:22:00.143560Z"
    },
    "trusted": true
   },
   "outputs": [
    {
     "data": {
      "text/html": [
       "<a href='outputs_clean/Glucose_Distribution.png' target='_blank'>outputs_clean/Glucose_Distribution.png</a><br>"
      ],
      "text/plain": [
       "/kaggle/working/outputs_clean/Glucose_Distribution.png"
      ]
     },
     "metadata": {},
     "output_type": "display_data"
    },
    {
     "data": {
      "text/html": [
       "<a href='outputs_clean/Event_Code_Frequencies.png' target='_blank'>outputs_clean/Event_Code_Frequencies.png</a><br>"
      ],
      "text/plain": [
       "/kaggle/working/outputs_clean/Event_Code_Frequencies.png"
      ]
     },
     "metadata": {},
     "output_type": "display_data"
    },
    {
     "data": {
      "text/html": [
       "<a href='outputs_clean/Distribution_of_Observation_Counts_per_Patient.png' target='_blank'>outputs_clean/Distribution_of_Observation_Counts_per_Patient.png</a><br>"
      ],
      "text/plain": [
       "/kaggle/working/outputs_clean/Distribution_of_Observation_Counts_per_Patient.png"
      ]
     },
     "metadata": {},
     "output_type": "display_data"
    }
   ],
   "source": [
    "# Re-create early EDA images properly and save them\n",
    "import numpy as np, matplotlib.pyplot as plt\n",
    "from IPython.display import FileLink\n",
    "\n",
    "def save_and_link(fig, filename):\n",
    "    out = OUTPUT_DIR / filename\n",
    "    fig.savefig(out, dpi=300, bbox_inches=\"tight\")\n",
    "    display(FileLink(out))\n",
    "    plt.close(fig)\n",
    "\n",
    "# 1) Glucose distribution (uses current 'df' with a 'glucose' column)\n",
    "fig, ax = plt.subplots(figsize=(5,3))\n",
    "ax.hist(pd.to_numeric(df[\"glucose\"], errors=\"coerce\").dropna(), bins=40, edgecolor=\"black\")\n",
    "ax.set_title(\"Glucose Distribution\"); ax.set_xlabel(\"mg/dL\"); ax.set_ylabel(\"Count\")\n",
    "fig.tight_layout()\n",
    "save_and_link(fig, \"Glucose_Distribution.png\")\n",
    "\n",
    "# 2) Event code frequencies (uses original raw logs if available)\n",
    "if \"df_raw\" in globals() and \"code\" in df_raw.columns:\n",
    "    code_counts = pd.to_numeric(df_raw[\"code\"], errors=\"coerce\").dropna().astype(int).value_counts().sort_index()\n",
    "    fig, ax = plt.subplots(figsize=(7,3))\n",
    "    ax.bar(code_counts.index.astype(str), code_counts.values, edgecolor=\"black\")\n",
    "    ax.set_title(\"Event Code Frequencies\"); ax.set_xlabel(\"Code\"); ax.set_ylabel(\"Count\")\n",
    "    ax.tick_params(axis=\"x\", rotation=45)\n",
    "    fig.tight_layout()\n",
    "    save_and_link(fig, \"Event_Code_Frequencies.png\")\n",
    "else:\n",
    "    print(\"Skipping Event_Code_Frequencies: 'df_raw' with a 'code' column not found.\")\n",
    "\n",
    "# 3) Distribution of observation counts per patient (binned)\n",
    "counts = df[\"patient_id\"].value_counts()\n",
    "bins = [0, 500, 1000, 1500, 2000]\n",
    "fig, ax = plt.subplots(figsize=(6,4))\n",
    "ax.hist(counts.values, bins=bins, edgecolor=\"black\")\n",
    "ax.set_title(\"Distribution of Observation Counts per Patient\")\n",
    "ax.set_xlabel(\"Observations per patient\"); ax.set_ylabel(\"Number of patients\")\n",
    "fig.tight_layout()\n",
    "save_and_link(fig, \"Distribution_of_Observation_Counts_per_Patient.png\")\n"
   ]
  },
  {
   "cell_type": "code",
   "execution_count": 20,
   "metadata": {
    "execution": {
     "iopub.execute_input": "2025-08-31T10:22:00.991330Z",
     "iopub.status.busy": "2025-08-31T10:22:00.991061Z",
     "iopub.status.idle": "2025-08-31T10:22:01.068832Z",
     "shell.execute_reply": "2025-08-31T10:22:01.068152Z",
     "shell.execute_reply.started": "2025-08-31T10:22:00.991313Z"
    },
    "trusted": true
   },
   "outputs": [
    {
     "data": {
      "text/html": [
       "<a href='outputs_bundle.zip' target='_blank'>outputs_bundle.zip</a><br>"
      ],
      "text/plain": [
       "/kaggle/working/outputs_bundle.zip"
      ]
     },
     "metadata": {},
     "output_type": "display_data"
    }
   ],
   "source": [
    "from IPython.display import FileLink, display; import shutil; shutil.make_archive('outputs_bundle','zip','outputs_clean'); display(FileLink('outputs_bundle.zip'))\n"
   ]
  },
  {
   "cell_type": "code",
   "execution_count": null,
   "metadata": {
    "trusted": true
   },
   "outputs": [],
   "source": []
  },
  {
   "cell_type": "code",
   "execution_count": null,
   "metadata": {
    "trusted": true
   },
   "outputs": [],
   "source": []
  },
  {
   "cell_type": "code",
   "execution_count": null,
   "metadata": {
    "trusted": true
   },
   "outputs": [],
   "source": []
  },
  {
   "cell_type": "code",
   "execution_count": null,
   "metadata": {
    "trusted": true
   },
   "outputs": [],
   "source": []
  },
  {
   "cell_type": "code",
   "execution_count": null,
   "metadata": {
    "trusted": true
   },
   "outputs": [],
   "source": []
  },
  {
   "cell_type": "code",
   "execution_count": null,
   "metadata": {
    "trusted": true
   },
   "outputs": [],
   "source": []
  },
  {
   "cell_type": "code",
   "execution_count": null,
   "metadata": {
    "trusted": true
   },
   "outputs": [],
   "source": []
  },
  {
   "cell_type": "code",
   "execution_count": null,
   "metadata": {
    "trusted": true
   },
   "outputs": [],
   "source": []
  },
  {
   "cell_type": "code",
   "execution_count": null,
   "metadata": {
    "trusted": true
   },
   "outputs": [],
   "source": []
  },
  {
   "cell_type": "code",
   "execution_count": null,
   "metadata": {
    "trusted": true
   },
   "outputs": [],
   "source": []
  },
  {
   "cell_type": "code",
   "execution_count": null,
   "metadata": {
    "trusted": true
   },
   "outputs": [],
   "source": []
  },
  {
   "cell_type": "code",
   "execution_count": null,
   "metadata": {
    "trusted": true
   },
   "outputs": [],
   "source": []
  },
  {
   "cell_type": "code",
   "execution_count": null,
   "metadata": {
    "trusted": true
   },
   "outputs": [],
   "source": []
  },
  {
   "cell_type": "code",
   "execution_count": null,
   "metadata": {
    "trusted": true
   },
   "outputs": [],
   "source": []
  },
  {
   "cell_type": "code",
   "execution_count": null,
   "metadata": {
    "trusted": true
   },
   "outputs": [],
   "source": []
  },
  {
   "cell_type": "code",
   "execution_count": null,
   "metadata": {
    "trusted": true
   },
   "outputs": [],
   "source": []
  },
  {
   "cell_type": "code",
   "execution_count": null,
   "metadata": {
    "trusted": true
   },
   "outputs": [],
   "source": []
  },
  {
   "cell_type": "code",
   "execution_count": null,
   "metadata": {
    "trusted": true
   },
   "outputs": [],
   "source": []
  },
  {
   "cell_type": "code",
   "execution_count": null,
   "metadata": {
    "trusted": true
   },
   "outputs": [],
   "source": []
  },
  {
   "cell_type": "code",
   "execution_count": null,
   "metadata": {
    "trusted": true
   },
   "outputs": [],
   "source": []
  },
  {
   "cell_type": "code",
   "execution_count": null,
   "metadata": {
    "trusted": true
   },
   "outputs": [],
   "source": []
  },
  {
   "cell_type": "code",
   "execution_count": null,
   "metadata": {
    "trusted": true
   },
   "outputs": [],
   "source": []
  },
  {
   "cell_type": "code",
   "execution_count": null,
   "metadata": {
    "trusted": true
   },
   "outputs": [],
   "source": []
  },
  {
   "cell_type": "code",
   "execution_count": null,
   "metadata": {
    "trusted": true
   },
   "outputs": [],
   "source": []
  },
  {
   "cell_type": "code",
   "execution_count": null,
   "metadata": {
    "trusted": true
   },
   "outputs": [],
   "source": []
  },
  {
   "cell_type": "code",
   "execution_count": null,
   "metadata": {
    "trusted": true
   },
   "outputs": [],
   "source": []
  },
  {
   "cell_type": "code",
   "execution_count": null,
   "metadata": {
    "trusted": true
   },
   "outputs": [],
   "source": []
  },
  {
   "cell_type": "code",
   "execution_count": null,
   "metadata": {
    "trusted": true
   },
   "outputs": [],
   "source": []
  },
  {
   "cell_type": "code",
   "execution_count": null,
   "metadata": {
    "trusted": true
   },
   "outputs": [],
   "source": []
  },
  {
   "cell_type": "code",
   "execution_count": null,
   "metadata": {
    "trusted": true
   },
   "outputs": [],
   "source": []
  },
  {
   "cell_type": "code",
   "execution_count": null,
   "metadata": {
    "trusted": true
   },
   "outputs": [],
   "source": []
  },
  {
   "cell_type": "code",
   "execution_count": null,
   "metadata": {
    "trusted": true
   },
   "outputs": [],
   "source": []
  }
 ],
 "metadata": {
  "kaggle": {
   "accelerator": "nvidiaTeslaT4",
   "dataSources": [
    {
     "datasetId": 8153165,
     "sourceId": 12886695,
     "sourceType": "datasetVersion"
    }
   ],
   "dockerImageVersionId": 31090,
   "isGpuEnabled": true,
   "isInternetEnabled": true,
   "language": "python",
   "sourceType": "notebook"
  },
  "kernelspec": {
   "display_name": "Python 3",
   "language": "python",
   "name": "python3"
  },
  "language_info": {
   "codemirror_mode": {
    "name": "ipython",
    "version": 3
   },
   "file_extension": ".py",
   "mimetype": "text/x-python",
   "name": "python",
   "nbconvert_exporter": "python",
   "pygments_lexer": "ipython3",
   "version": "3.11.13"
  }
 },
 "nbformat": 4,
 "nbformat_minor": 4
}
